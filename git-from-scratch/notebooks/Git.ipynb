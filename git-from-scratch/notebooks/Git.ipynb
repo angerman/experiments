{
 "cells": [
  {
   "cell_type": "code",
   "execution_count": 3,
   "metadata": {
    "collapsed": false,
    "deletable": true,
    "editable": true
   },
   "outputs": [
    {
     "data": {
      "text/plain": [
       "Cloning into 'solarized'..."
      ]
     },
     "metadata": {},
     "output_type": "display_data"
    },
    {
     "data": {
      "text/plain": [
       "commit e40cd4130e2a82f9b03ada1ca378b7701b1a9110\n",
       "Author: Trevor Bramble <inbox@trevorbramble.com>\n",
       "Date:   Fri Jun 28 22:01:38 2013 -0700\n",
       "\n",
       "    add tmux by @seebi!\n",
       "\n",
       "diff --git a/tmux/README.md b/tmux/README.md\n",
       "new file mode 100644\n",
       "index 0000000..71fabef\n",
       "--- /dev/null\n",
       "+++ b/tmux/README.md\n",
       "@@ -0,0 +1,24 @@\n",
       "+# Solarize color theme tmux configuration\n",
       "+\n",
       "+A tmux solarized theme using Ethan Schoonoverâs [Solarized color scheme](http://ethanschoonover.com/solarized).\n",
       "+\n",
       "+## Repositories\n",
       "+  * This theme as a single repository: [/seebi/tmux-colors-solarized](https://github.com/seebi/tmux-colors-solarized)\n",
       "+  * The main solarized repository: [/altercation/solarized](https://github.com/altercation/solarized)\n",
       "+\n",
       "+## Installation\n",
       "+This config snippet for the terminal multiplexer tmux should be added to your `~/.tmux.conf` configuration file.\n",
       "+\n",
       "+In most cases, you have to force tmux to assume the terminal supports 256 colours.\n",
       "+For this, start tmux as `tmux -2`.\n",
       "+\n",
       "+This color scheme is tested with tmux >= 1.5. tmux 1.1 is reported as not working.\n",
       "+\n",
       "+## Screenshot\n",
       "+Here is a screenshot of a tmux session captured from a gnome-terminal using the [dz-version of the awesome Inconsolata font](http://nodnod.net/2009/feb/12/adding-straight-single-and-double-quotes-inconsola/).\n",
       "+\n",
       "+![screenshot](https://github.com/seebi/tmux-colors-solarized/raw/master/tmuxcolors.png)\n",
       "+\n",
       "+And another one showing different dircolors from the neighboring [dircolors-solarized](https://github.com/seebi/dircolors-solarized) repository.\n",
       "+\n",
       "+![screenshot](https://github.com/seebi/dircolors-solarized/raw/master/img/dircolors.256dark.png)\n",
       "diff --git a/tmux/tmuxcolors-256.conf b/tmux/tmuxcolors-256.conf\n",
       "new file mode 100644\n",
       "index 0000000..eb7ede4\n",
       "--- /dev/null\n",
       "+++ b/tmux/tmuxcolors-256.conf\n",
       "@@ -0,0 +1,31 @@\n",
       "+#### COLOUR (Solarized 256)\n",
       "+\n",
       "+# default statusbar colors\n",
       "+set-option -g status-bg colour235 #base02\n",
       "+set-option -g status-fg colour136 #yellow\n",
       "+set-option -g status-attr default\n",
       "+\n",
       "+# default window title colors\n",
       "+set-window-option -g window-status-fg colour244 #base0\n",
       "+set-window-option -g window-status-bg default\n",
       "+#set-window-option -g window-status-attr dim\n",
       "+\n",
       "+# active window title colors\n",
       "+set-window-option -g window-status-current-fg colour166 #orange\n",
       "+set-window-option -g window-status-current-bg default\n",
       "+#set-window-option -g window-status-current-attr bright\n",
       "+\n",
       "+# pane border\n",
       "+set-option -g pane-border-fg colour235 #base02\n",
       "+set-option -g pane-active-border-fg colour240 #base01\n",
       "+\n",
       "+# message text\n",
       "+set-option -g message-bg colour235 #base02\n",
       "+set-option -g message-fg colour166 #orange\n",
       "+\n",
       "+# pane number display\n",
       "+set-option -g display-panes-active-colour colour33 #blue\n",
       "+set-option -g display-panes-colour colour166 #orange\n",
       "+\n",
       "+# clock\n",
       "+set-window-option -g clock-mode-colour colour64 #green\n",
       "diff --git a/tmux/tmuxcolors-dark.conf b/tmux/tmuxcolors-dark.conf\n",
       "new file mode 100644\n",
       "index 0000000..3fa2ec5\n",
       "--- /dev/null\n",
       "+++ b/tmux/tmuxcolors-dark.conf\n",
       "@@ -0,0 +1,31 @@\n",
       "+#### COLOUR (Solarized dark)\n",
       "+\n",
       "+# default statusbar colors\n",
       "+set-option -g status-bg black #base02\n",
       "+set-option -g status-fg yellow #yellow\n",
       "+set-option -g status-attr default\n",
       "+\n",
       "+# default window title colors\n",
       "+set-window-option -g window-status-fg brightblue #base0\n",
       "+set-window-option -g window-status-bg default\n",
       "+#set-window-option -g window-status-attr dim\n",
       "+\n",
       "+# active window title colors\n",
       "+set-window-option -g window-status-current-fg brightred #orange\n",
       "+set-window-option -g window-status-current-bg default\n",
       "+#set-window-option -g window-status-current-attr bright\n",
       "+\n",
       "+# pane border\n",
       "+set-option -g pane-border-fg black #base02\n",
       "+set-option -g pane-active-border-fg brightgreen #base01\n",
       "+\n",
       "+# message text\n",
       "+set-option -g message-bg black #base02\n",
       "+set-option -g message-fg brightred #orange\n",
       "+\n",
       "+# pane number display\n",
       "+set-option -g display-panes-active-colour blue #blue\n",
       "+set-option -g display-panes-colour brightred #orange\n",
       "+\n",
       "+# clock\n",
       "+set-window-option -g clock-mode-colour green #green\n",
       "diff --git a/tmux/tmuxcolors-light.conf b/tmux/tmuxcolors-light.conf\n",
       "new file mode 100644\n",
       "index 0000000..767152a\n",
       "--- /dev/null\n",
       "+++ b/tmux/tmuxcolors-light.conf\n",
       "@@ -0,0 +1,31 @@\n",
       "+#### COLOUR (Solarized light)\n",
       "+\n",
       "+# default statusbar colors\n",
       "+set-option -g status-bg white #base2\n",
       "+set-option -g status-fg yellow #yellow\n",
       "+set-option -g status-attr default\n",
       "+\n",
       "+# default window title colors\n",
       "+set-window-option -g window-status-fg brightyellow #base00\n",
       "+set-window-option -g window-status-bg default\n",
       "+#set-window-option -g window-status-attr dim\n",
       "+\n",
       "+# active window title colors\n",
       "+set-window-option -g window-status-current-fg brightred #orange\n",
       "+set-window-option -g window-status-current-bg default\n",
       "+#set-window-option -g window-status-current-attr bright\n",
       "+\n",
       "+# pane border\n",
       "+set-option -g pane-border-fg white #base2\n",
       "+set-option -g pane-active-border-fg brightcyan #base1\n",
       "+\n",
       "+# message text\n",
       "+set-option -g message-bg white #base2\n",
       "+set-option -g message-fg brightred #orange\n",
       "+\n",
       "+# pane number display\n",
       "+set-option -g display-panes-active-colour blue #blue\n",
       "+set-option -g display-panes-colour brightred #orange\n",
       "+\n",
       "+# clock\n",
       "+set-window-option -g clock-mode-colour green #green\n",
       "diff --git a/tmux/tmuxcolors.png b/tmux/tmuxcolors.png\n",
       "new file mode 100644\n",
       "index 0000000..190df17\n",
       "Binary files /dev/null and b/tmux/tmuxcolors.png differ"
      ]
     },
     "metadata": {},
     "output_type": "display_data"
    }
   ],
   "source": [
    "{-# LANGUAGE OverloadedStrings #-}\n",
    "\n",
    ":!git clone https://github.com/altercation/solarized\n",
    ":!cd solarized\n",
    ":!git show"
   ]
  },
  {
   "cell_type": "code",
   "execution_count": 4,
   "metadata": {
    "collapsed": false,
    "deletable": true,
    "editable": true
   },
   "outputs": [
    {
     "data": {
      "text/plain": [
       "tree ecd0e58d6832566540a30dfd4878db518d5451d0\n",
       "parent ab3c5646b41de1b6d95782371289db585ba8aa85\n",
       "author Trevor Bramble <inbox@trevorbramble.com> 1372482098 -0700\n",
       "committer Trevor Bramble <inbox@trevorbramble.com> 1372482214 -0700\n",
       "\n",
       "add tmux by @seebi!"
      ]
     },
     "metadata": {},
     "output_type": "display_data"
    }
   ],
   "source": [
    ":!git cat-file -p HEAD"
   ]
  },
  {
   "cell_type": "code",
   "execution_count": 5,
   "metadata": {
    "collapsed": false,
    "deletable": true,
    "editable": true
   },
   "outputs": [
    {
     "data": {
      "text/plain": [
       "ref: refs/heads/master"
      ]
     },
     "metadata": {},
     "output_type": "display_data"
    }
   ],
   "source": [
    ":!cat .git/HEAD"
   ]
  },
  {
   "cell_type": "code",
   "execution_count": 7,
   "metadata": {
    "collapsed": false
   },
   "outputs": [
    {
     "data": {
      "text/plain": [
       "e40cd4130e2a82f9b03ada1ca378b7701b1a9110"
      ]
     },
     "metadata": {},
     "output_type": "display_data"
    }
   ],
   "source": [
    ":!cat .git/refs/heads/master"
   ]
  },
  {
   "cell_type": "code",
   "execution_count": 21,
   "metadata": {
    "collapsed": false
   },
   "outputs": [
    {
     "data": {
      "text/plain": [
       "tree ecd0e58d6832566540a30dfd4878db518d5451d0\n",
       "parent ab3c5646b41de1b6d95782371289db585ba8aa85\n",
       "author Trevor Bramble <inbox@trevorbramble.com> 1372482098 -0700\n",
       "committer Trevor Bramble <inbox@trevorbramble.com> 1372482214 -0700\n",
       "\n",
       "add tmux by @seebi!"
      ]
     },
     "metadata": {},
     "output_type": "display_data"
    }
   ],
   "source": [
    ":!git cat-file -p e40cd4130e2a82f9b03ada1ca378b7701b1a9110"
   ]
  },
  {
   "cell_type": "code",
   "execution_count": 24,
   "metadata": {
    "collapsed": false
   },
   "outputs": [
    {
     "data": {
      "text/plain": [
       ".git/objects/e4/0cd4130e2a82f9b03ada1ca378b7701b1a9110"
      ]
     },
     "metadata": {},
     "output_type": "display_data"
    },
    {
     "data": {
      "text/plain": [
       "x\u0001mj\u00031\f",
       "DûÛ§P\u000eÐâ/ÙZ(%ô\f",
       "¹´RéB\r",
       "®SÛ×^ ¿\u0006\u001e",
       "ÃY÷Ö¶\u00011ÓÓèf`«zCÒB)b)='¯\u001f©\n",
       "\u0006RÌ\u0018Ô»\u000b",
       "w;\u000f`I+\\$\u0007µ E\u0017¬\u0014S\r",
       "Ù'\u0014&fBÇ×ñ¹w8uûñÞ¹ÉÁëvývÓÊ\u0003¾¬{{ê<\u0015ýBðì«÷nÒùtØÿ\u001d",
       "1ä?cU\u0018íz\u0003¹ÃñÛL¶û\u0005È\u0005O"
      ]
     },
     "metadata": {},
     "output_type": "display_data"
    }
   ],
   "source": [
    ":!ls .git/objects/e4/0cd4130e2a82f9b03ada1ca378b7701b1a9110\n",
    ":!cat .git/objects/e4/0cd4130e2a82f9b03ada1ca378b7701b1a9110"
   ]
  },
  {
   "cell_type": "code",
   "execution_count": 29,
   "metadata": {
    "collapsed": false
   },
   "outputs": [
    {
     "data": {
      "text/plain": [
       "commit 248\u0000tree ecd0e58d6832566540a30dfd4878db518d5451d0\n",
       "parent ab3c5646b41de1b6d95782371289db585ba8aa85\n",
       "author Trevor Bramble <inbox@trevorbramble.com> 1372482098 -0700\n",
       "committer Trevor Bramble <inbox@trevorbramble.com> 1372482214 -0700\n",
       "\n",
       "add tmux by @seebi!"
      ]
     },
     "metadata": {},
     "output_type": "display_data"
    }
   ],
   "source": [
    ":!zlib-flate -uncompress < .git/objects/e4/0cd4130e2a82f9b03ada1ca378b7701b1a9110"
   ]
  },
  {
   "cell_type": "code",
   "execution_count": 31,
   "metadata": {
    "collapsed": false
   },
   "outputs": [],
   "source": [
    "import qualified Codec.Compression.Zlib as Z (compress, decompress)\n",
    "import           Data.ByteString.Lazy        (fromStrict, toStrict)\n",
    "\n",
    "compress, decompress :: ByteString -> ByteString\n",
    "compress   = toStrict . Z.compress   . fromStrict\n",
    "decompress = toStrict . Z.decompress . fromStrict"
   ]
  },
  {
   "cell_type": "code",
   "execution_count": 32,
   "metadata": {
    "collapsed": false
   },
   "outputs": [
    {
     "data": {
      "text/plain": [
       "commit 248\u0000tree ecd0e58d6832566540a30dfd4878db518d5451d0\n",
       "parent ab3c5646b41de1b6d95782371289db585ba8aa85\n",
       "author Trevor Bramble <inbox@trevorbramble.com> 1372482098 -0700\n",
       "committer Trevor Bramble <inbox@trevorbramble.com> 1372482214 -0700\n",
       "\n",
       "add tmux by @seebi!"
      ]
     },
     "metadata": {},
     "output_type": "display_data"
    }
   ],
   "source": [
    "commit <- B.readFile \".git/objects/e4/0cd4130e2a82f9b03ada1ca378b7701b1a9110\"\n",
    "decompress commit"
   ]
  },
  {
   "cell_type": "code",
   "execution_count": 35,
   "metadata": {
    "collapsed": false
   },
   "outputs": [],
   "source": [
    "import           Data.Attoparsec.ByteString (Parser)\n",
    "import qualified Data.Attoparsec.ByteString.Char8 as AC\n",
    "import           Data.ByteString (ByteString)\n",
    "import qualified Data.ByteString as B\n",
    "\n",
    "parsed :: Parser a -> ByteString -> a\n",
    "parsed parser = either error id . AC.parseOnly parser"
   ]
  },
  {
   "cell_type": "code",
   "execution_count": 37,
   "metadata": {
    "collapsed": false
   },
   "outputs": [
    {
     "data": {
      "text/plain": [
       "(\"commit\",248)"
      ]
     },
     "metadata": {},
     "output_type": "display_data"
    }
   ],
   "source": [
    "parseHeader :: Parser (ByteString, Int)\n",
    "parseHeader = do\n",
    "    objectType <- AC.takeTill AC.isSpace\n",
    "    AC.space\n",
    "    len <- AC.decimal\n",
    "    AC.char '\\NUL'\n",
    "    return (objectType, len)\n",
    "\n",
    "commit <- decompress <$> B.readFile \".git/objects/e4/0cd4130e2a82f9b03ada1ca378b7701b1a9110\"\n",
    "\n",
    "parsed parseHeader commit"
   ]
  },
  {
   "cell_type": "code",
   "execution_count": null,
   "metadata": {
    "collapsed": true
   },
   "outputs": [],
   "source": [
    "type Ref = ByteString\n",
    "\n",
    "parseHexRef :: Parser Ref\n",
    "parseHexRef = AC.take 40"
   ]
  },
  {
   "cell_type": "code",
   "execution_count": 43,
   "metadata": {
    "collapsed": false
   },
   "outputs": [
    {
     "data": {
      "text/plain": [
       "Commit {commitTree = \"ecd0e58d6832566540a30dfd4878db518d5451d0\", commitParents = [\"ab3c5646b41de1b6d95782371289db585ba8aa85\"], commitAuthor = \"Trevor Bramble <inbox@trevorbramble.com> 1372482098 -0700\", commitCommitter = \"Trevor Bramble <inbox@trevorbramble.com> 1372482214 -0700\", commitMessage = \"add tmux by @seebi!\\n\"}"
      ]
     },
     "metadata": {},
     "output_type": "display_data"
    }
   ],
   "source": [
    "data Commit = Commit\n",
    "    { commitTree      :: Ref\n",
    "    , commitParents   :: [Ref]\n",
    "    , commitAuthor    :: ByteString\n",
    "    , commitCommitter :: ByteString\n",
    "    , commitMessage   :: ByteString\n",
    "    } deriving (Eq, Show)\n",
    "\n",
    "parseCommit = do\n",
    "    cTree      <-           AC.string \"tree\"      *> AC.space *> parseHexRef                   <* AC.endOfLine\n",
    "    cParents   <- AC.many' (AC.string \"parent\"    *> AC.space *> parseHexRef                   <* AC.endOfLine)\n",
    "    cAuthor    <-           AC.string \"author\"    *> AC.space *> AC.takeTill (AC.inClass \"\\n\") <* AC.endOfLine\n",
    "    cCommitter <-           AC.string \"committer\" *> AC.space *> AC.takeTill (AC.inClass \"\\n\") <* AC.endOfLine\n",
    "    AC.endOfLine\n",
    "    cMessage   <- AC.takeByteString\n",
    "    return $ Commit cTree cParents cAuthor cCommitter cMessage\n",
    "\n",
    "parsed (parseHeader *> parseCommit) commit"
   ]
  },
  {
   "cell_type": "code",
   "execution_count": 57,
   "metadata": {
    "collapsed": false
   },
   "outputs": [
    {
     "data": {
      "text/plain": [
       "True"
      ]
     },
     "metadata": {},
     "output_type": "display_data"
    }
   ],
   "source": [
    "import Data.Monoid ((<>), mappend, mconcat)\n",
    "\n",
    "reprCommit :: Commit -> ByteString\n",
    "reprCommit (Commit cTree cParents cAuthor cCommitter cMessage) = mconcat\n",
    "    [                       \"tree \"      <> cTree      <> \"\\n\"\n",
    "    , mconcat (map (\\ref -> \"parent \"    <> ref        <> \"\\n\") cParents)\n",
    "    ,                       \"author \"    <> cAuthor    <> \"\\n\"\n",
    "    ,                       \"committer \" <> cCommitter <> \"\\n\"\n",
    "    ,                                                     \"\\n\"\n",
    "    ,                                       cMessage\n",
    "    ]\n",
    "\n",
    "parsedCommit = parsed (parseHeader *> parseCommit) commit\n",
    "(parsed parseCommit . reprCommit $ parsedCommit) == parsedCommit"
   ]
  },
  {
   "cell_type": "code",
   "execution_count": 60,
   "metadata": {
    "collapsed": false
   },
   "outputs": [
    {
     "data": {
      "text/plain": [
       "commit 248\u0000tree ecd0e58d6832566540a30dfd4878db518d5451d0\n",
       "parent ab3c5646b41de1b6d95782371289db585ba8aa85\n",
       "author Trevor Bramble <inbox@trevorbramble.com> 1372482098 -0700\n",
       "committer Trevor Bramble <inbox@trevorbramble.com> 1372482214 -0700\n",
       "\n",
       "add tmux by @seebi!"
      ]
     },
     "metadata": {},
     "output_type": "display_data"
    }
   ],
   "source": [
    "import Data.ByteString.UTF8 (fromString, toString)\n",
    "\n",
    "withHeader :: ByteString -> ByteString -> ByteString\n",
    "withHeader oType content = mconcat [oType, \" \", fromString . show $ B.length content, \"\\NUL\", content]\n",
    "\n",
    "withHeader \"commit\" (reprCommit parsedCommit)"
   ]
  },
  {
   "cell_type": "code",
   "execution_count": 64,
   "metadata": {
    "collapsed": false
   },
   "outputs": [
    {
     "data": {
      "text/plain": [
       "e40cd4130e2a82f9b03ada1ca378b7701b1a9110"
      ]
     },
     "metadata": {},
     "output_type": "display_data"
    }
   ],
   "source": [
    "import Data.Digest.Pure.SHA\n",
    "\n",
    "hash :: ByteString -> Ref\n",
    "hash = fromString . showDigest . sha1 . fromStrict\n",
    "\n",
    "hash (withHeader \"commit\" (reprCommit parsedCommit))"
   ]
  },
  {
   "cell_type": "code",
   "execution_count": 54,
   "metadata": {
    "collapsed": false
   },
   "outputs": [
    {
     "data": {
      "text/plain": [
       "100644 blob e69de29bb2d1d6434b8b29ae775ad8c2e48c5391\t.gitmodules\n",
       "100644 blob ec00a76061539cf774614788270214499696f871\tCHANGELOG.mkd\n",
       "100644 blob f95aaf80007d225f00d3109987ee42ef2c2e0c0a\tDEVELOPERS.mkd\n",
       "100644 blob ee08d7e44f15108ef5359550399dad55955b56ca\tLICENSE\n",
       "100644 blob d18ee9450251ea1b9a02ebd4d6fce022df9eb5e4\tREADME.md\n",
       "040000 tree 1981c76881c6a14e14d067a44247acd1bf6bbc3a\tadobe-swatches-solarized\n",
       "040000 tree 825c732bdd3a62aeb543ca89026a26a2ee0fba26\tapple-colorpalette-solarized\n",
       "040000 tree 7bab2828df5de23262a821cc48fe0ccf8bd2a9ae\temacs-colors-solarized\n",
       "040000 tree f5fe8c3e20b2577223f617683a52eac31c5c9f30\tfiles\n",
       "040000 tree 5b60111510dbb3d8560cf58a36a20a99fc175658\tgedit\n",
       "040000 tree 60c9df3d6e1994b76d72c061a02639af3d925655\tgimp-palette-solarized\n",
       "040000 tree 979cf43752e4d698c7b5b47cff665142a274c133\timg\n",
       "040000 tree 3ff6d431303b66cc50e45b6fabd72302f210aebc\tintellij-colors-solarized\n",
       "040000 tree 8f387a531ad08f146c86e4b6007b898064ad4d7f\titerm2-colors-solarized\n",
       "040000 tree 1e37592e62c85909be4c5e5eb774f177766e8422\tmutt-colors-solarized\n",
       "040000 tree 8f321f917040d903f701a2b33aeee26aed2ee544\tnetbeans-colors-solarized\n",
       "040000 tree 0d408465820822f6a2afccf43e9627375fedc278\tosx-terminal.app-colors-solarized\n",
       "040000 tree 63dfa6c40d214f8e0f76d39f7a2283e053940a19\tputty-colors-solarized\n",
       "040000 tree 453921a267d3eb855e40c7de73aee46088563f3e\tqtcreator\n",
       "040000 tree 5dd6832a324187f8f521bef928891fb87cf845f6\tseestyle-colors-solarized\n",
       "040000 tree 3c15973ed107e7b37d1c4885f82984658ecbdf6a\ttextmate-colors-solarized\n",
       "040000 tree 4db152b36a47e31a872e778c02161f537888e44b\ttextwrangler-bbedit-colors-solarized\n",
       "040000 tree 09b5f2f69e1596c6ff66fb187ea6bdc385845152\ttmux\n",
       "040000 tree 635ebbb919fcbbaf6fe958998553bf3f5fe09210\tutils\n",
       "040000 tree b87a2100b0a79424cd4b2a4e4ef03274b130a206\tvim-colors-solarized\n",
       "040000 tree 8dea7190b79c05404aa6a1f0d67c5c6671d66fe1\tvisualstudio-colors-solarized\n",
       "040000 tree 0a531826e913a4b11823ee1be6e1b367f826006f\txchat\n",
       "040000 tree 2870bdf394a6b6b3bd10c263ffe9396a0d3d3366\txfce4-terminal\n",
       "040000 tree 5d1a212e2fd9cdc2b678e3be56cf776b2f16cfe2\txresources"
      ]
     },
     "metadata": {},
     "output_type": "display_data"
    }
   ],
   "source": [
    ":!git cat-file -p ecd0e58d6832566540a30dfd4878db518d5451d0"
   ]
  },
  {
   "cell_type": "code",
   "execution_count": 55,
   "metadata": {
    "collapsed": false,
    "deletable": true,
    "editable": true
   },
   "outputs": [
    {
     "data": {
      "text/plain": [
       "tree 1282\u0000100644 .gitmodules\u0000�⛲��CK�)�wZ���S�100644 CHANGELOG.mkd\u0000�\u0000�`aS��taG�'\u0002\u0014I���q100644 DEVELOPERS.mkd\u0000�Z��\u0000}\"_\u0000�\u0010���B�,.\f",
       "\n",
       "100644 LICENSE\u0000�\b��O\u0015\u0010��5�P9��U�[V�100644 README.md\u0000ю�E\u0002Q�\u001b�\u0002�����\"ߞ��40000 adobe-swatches-solarized\u0000\u0019��h�ơN\u0014�g�BG�ѿk�:40000 apple-colorpalette-solarized\u0000�\\s+�:b��Cʉ\u0002j&��\u000f�&40000 emacs-colors-solarized\u0000{�((�]�2b�!�H�\f",
       "ϋҩ�40000 files\u0000���> �Wr#�\u0017h:R��\u001c",
       "\\�040000 gedit\u0000[`\u0011\u0015\u0010۳�V\f",
       "�6�\n",
       "��\u0017VX40000 gimp-palette-solarized\u0000`��=n\u0019��mr�a�&9�=�VU40000 img\u0000���7R�֘ǵ�|�fQB�t�340000 intellij-colors-solarized\u0000?��10;f�P�[o��#\u0002�\u0010��40000 iterm2-colors-solarized\u0000�8zS\u001aЏ\u0014l��\u0000{��d�M40000 mutt-colors-solarized\u0000\u001e",
       "7Y.b�Y\t�L^^�t�wvn�\"40000 netbeans-colors-solarized\u0000�2\u001f�p@�\u0003�\u0001��:��j�.�D40000 osx-terminal.app-colors-solarized\u0000\r",
       "@�e�\b\"���>�'7_��x40000 putty-colors-solarized\u0000cߦ�\r",
       "!O�\u000fvӟz\"��S�\n",
       "\u001940000 qtcreator\u0000E9!�g��^@��s��`�V?>40000 seestyle-colors-solarized\u0000]փ*2A���!��(�\u001f�|�E�40000 textmate-colors-solarized\u0000<\u0015�>�\u0007�}\u001c",
       "H��)�e���j40000 textwrangler-bbedit-colors-solarized\u0000M�R�jG�\u001a�.w�\u0002\u0016\u001fSx��K40000 tmux\u0000\t���\u0015���f�\u0018~��Å�QR40000 utils\u0000c^��\u0019���o�X��S�?_�\u001040000 vim-colors-solarized\u0000�z!\u0000���$�K*NN�2t�0�\u000640000 visualstudio-colors-solarized\u0000��q���\u0005@J����|\\fq�o�40000 xchat\u0000\n",
       "S\u0018&�\u0013��\u0018#�\u001b��g�&\u0000o40000 xfce4-terminal\u0000(p�󔦶��\u0010�c��9j\r",
       "=3f40000 xresources\u0000]\u001a!./��¶x�V�wk/\u0016��"
      ]
     },
     "metadata": {},
     "output_type": "display_data"
    }
   ],
   "source": [
    "decompress <$> B.readFile \".git/objects/ec/d0e58d6832566540a30dfd4878db518d5451d0\""
   ]
  },
  {
   "cell_type": "code",
   "execution_count": 70,
   "metadata": {
    "collapsed": false,
    "deletable": true,
    "editable": true
   },
   "outputs": [
    {
     "data": {
      "text/plain": [
       "Tree {treeEntries = [TreeEntry {entryPerms = \"100644\", entryName = \".gitmodules\", entryRef = \"e69de29bb2d1d6434b8b29ae775ad8c2e48c5391\"},TreeEntry {entryPerms = \"100644\", entryName = \"CHANGELOG.mkd\", entryRef = \"ec00a76061539cf774614788270214499696f871\"},TreeEntry {entryPerms = \"100644\", entryName = \"DEVELOPERS.mkd\", entryRef = \"f95aaf80007d225f00d3109987ee42ef2c2e0c0a\"},TreeEntry {entryPerms = \"100644\", entryName = \"LICENSE\", entryRef = \"ee08d7e44f15108ef5359550399dad55955b56ca\"},TreeEntry {entryPerms = \"100644\", entryName = \"README.md\", entryRef = \"d18ee9450251ea1b9a02ebd4d6fce022df9eb5e4\"},TreeEntry {entryPerms = \"40000\", entryName = \"adobe-swatches-solarized\", entryRef = \"1981c76881c6a14e14d067a44247acd1bf6bbc3a\"},TreeEntry {entryPerms = \"40000\", entryName = \"apple-colorpalette-solarized\", entryRef = \"825c732bdd3a62aeb543ca89026a26a2ee0fba26\"},TreeEntry {entryPerms = \"40000\", entryName = \"emacs-colors-solarized\", entryRef = \"7bab2828df5de23262a821cc48fe0ccf8bd2a9ae\"},TreeEntry {entryPerms = \"40000\", entryName = \"files\", entryRef = \"f5fe8c3e20b2577223f617683a52eac31c5c9f30\"},TreeEntry {entryPerms = \"40000\", entryName = \"gedit\", entryRef = \"5b60111510dbb3d8560cf58a36a20a99fc175658\"},TreeEntry {entryPerms = \"40000\", entryName = \"gimp-palette-solarized\", entryRef = \"60c9df3d6e1994b76d72c061a02639af3d925655\"},TreeEntry {entryPerms = \"40000\", entryName = \"img\", entryRef = \"979cf43752e4d698c7b5b47cff665142a274c133\"},TreeEntry {entryPerms = \"40000\", entryName = \"intellij-colors-solarized\", entryRef = \"3ff6d431303b66cc50e45b6fabd72302f210aebc\"},TreeEntry {entryPerms = \"40000\", entryName = \"iterm2-colors-solarized\", entryRef = \"8f387a531ad08f146c86e4b6007b898064ad4d7f\"},TreeEntry {entryPerms = \"40000\", entryName = \"mutt-colors-solarized\", entryRef = \"1e37592e62c85909be4c5e5eb774f177766e8422\"},TreeEntry {entryPerms = \"40000\", entryName = \"netbeans-colors-solarized\", entryRef = \"8f321f917040d903f701a2b33aeee26aed2ee544\"},TreeEntry {entryPerms = \"40000\", entryName = \"osx-terminal.app-colors-solarized\", entryRef = \"0d408465820822f6a2afccf43e9627375fedc278\"},TreeEntry {entryPerms = \"40000\", entryName = \"putty-colors-solarized\", entryRef = \"63dfa6c40d214f8e0f76d39f7a2283e053940a19\"},TreeEntry {entryPerms = \"40000\", entryName = \"qtcreator\", entryRef = \"453921a267d3eb855e40c7de73aee46088563f3e\"},TreeEntry {entryPerms = \"40000\", entryName = \"seestyle-colors-solarized\", entryRef = \"5dd6832a324187f8f521bef928891fb87cf845f6\"},TreeEntry {entryPerms = \"40000\", entryName = \"textmate-colors-solarized\", entryRef = \"3c15973ed107e7b37d1c4885f82984658ecbdf6a\"},TreeEntry {entryPerms = \"40000\", entryName = \"textwrangler-bbedit-colors-solarized\", entryRef = \"4db152b36a47e31a872e778c02161f537888e44b\"},TreeEntry {entryPerms = \"40000\", entryName = \"tmux\", entryRef = \"09b5f2f69e1596c6ff66fb187ea6bdc385845152\"},TreeEntry {entryPerms = \"40000\", entryName = \"utils\", entryRef = \"635ebbb919fcbbaf6fe958998553bf3f5fe09210\"},TreeEntry {entryPerms = \"40000\", entryName = \"vim-colors-solarized\", entryRef = \"b87a2100b0a79424cd4b2a4e4ef03274b130a206\"},TreeEntry {entryPerms = \"40000\", entryName = \"visualstudio-colors-solarized\", entryRef = \"8dea7190b79c05404aa6a1f0d67c5c6671d66fe1\"},TreeEntry {entryPerms = \"40000\", entryName = \"xchat\", entryRef = \"0a531826e913a4b11823ee1be6e1b367f826006f\"},TreeEntry {entryPerms = \"40000\", entryName = \"xfce4-terminal\", entryRef = \"2870bdf394a6b6b3bd10c263ffe9396a0d3d3366\"},TreeEntry {entryPerms = \"40000\", entryName = \"xresources\", entryRef = \"5d1a212e2fd9cdc2b678e3be56cf776b2f16cfe2\"}]}"
      ]
     },
     "metadata": {},
     "output_type": "display_data"
    }
   ],
   "source": [
    "import Data.ByteString.Base16 (encode)\n",
    "\n",
    "parseBinRef :: Parser Ref\n",
    "parseBinRef = encode <$> AC.take 20\n",
    "\n",
    "\n",
    "data Tree = Tree { treeEntries :: [TreeEntry] } deriving (Eq, Show)\n",
    "data TreeEntry = TreeEntry { entryPerms :: ByteString, entryName :: ByteString, entryRef :: Ref } deriving (Eq, Show)\n",
    "\n",
    "parseTreeEntry :: Parser TreeEntry\n",
    "parseTreeEntry = do\n",
    "    perms <- fromString <$> AC.many1' AC.digit\n",
    "    AC.space\n",
    "    name  <- AC.takeWhile (/='\\NUL')\n",
    "    AC.char '\\NUL'\n",
    "    ref   <- parseBinRef\n",
    "    return $ TreeEntry perms name ref\n",
    "\n",
    "parseTree :: Parser Tree\n",
    "parseTree = Tree <$> AC.many' parseTreeEntry\n",
    "\n",
    "tree <- decompress <$> B.readFile \".git/objects/ec/d0e58d6832566540a30dfd4878db518d5451d0\"\n",
    "\n",
    "parsed (parseHeader *> parseTree) tree"
   ]
  },
  {
   "cell_type": "code",
   "execution_count": null,
   "metadata": {
    "collapsed": true
   },
   "outputs": [],
   "source": [
    "import Data.ByteString.Base16 (decode)\n",
    "\n",
    "reprTreeEntry :: TreeEntry -> ByteString\n",
    "reprTreeEntry (TreeEntry perms name ref) = mconcat [perms, \" \", name, \"\\NUL\", fst $ decode ref]"
   ]
  }
 ],
 "metadata": {
  "kernelspec": {
   "display_name": "Haskell",
   "language": "haskell",
   "name": "haskell"
  },
  "language_info": {
   "codemirror_mode": "ihaskell",
   "file_extension": ".hs",
   "name": "haskell",
   "version": "8.0.2"
  }
 },
 "nbformat": 4,
 "nbformat_minor": 2
}
