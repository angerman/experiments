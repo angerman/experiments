{
 "cells": [
  {
   "cell_type": "code",
   "execution_count": 1,
   "metadata": {
    "collapsed": false,
    "deletable": true,
    "editable": true
   },
   "outputs": [
    {
     "data": {
      "text/html": [
       "<style>/* Styles used for the Hoogle display in the pager */\n",
       ".hoogle-doc {\n",
       "display: block;\n",
       "padding-bottom: 1.3em;\n",
       "padding-left: 0.4em;\n",
       "}\n",
       ".hoogle-code {\n",
       "display: block;\n",
       "font-family: monospace;\n",
       "white-space: pre;\n",
       "}\n",
       ".hoogle-text {\n",
       "display: block;\n",
       "}\n",
       ".hoogle-name {\n",
       "color: green;\n",
       "font-weight: bold;\n",
       "}\n",
       ".hoogle-head {\n",
       "font-weight: bold;\n",
       "}\n",
       ".hoogle-sub {\n",
       "display: block;\n",
       "margin-left: 0.4em;\n",
       "}\n",
       ".hoogle-package {\n",
       "font-weight: bold;\n",
       "font-style: italic;\n",
       "}\n",
       ".hoogle-module {\n",
       "font-weight: bold;\n",
       "}\n",
       ".hoogle-class {\n",
       "font-weight: bold;\n",
       "}\n",
       ".get-type {\n",
       "color: green;\n",
       "font-weight: bold;\n",
       "font-family: monospace;\n",
       "display: block;\n",
       "white-space: pre-wrap;\n",
       "}\n",
       ".show-type {\n",
       "color: green;\n",
       "font-weight: bold;\n",
       "font-family: monospace;\n",
       "margin-left: 1em;\n",
       "}\n",
       ".mono {\n",
       "font-family: monospace;\n",
       "display: block;\n",
       "}\n",
       ".err-msg {\n",
       "color: red;\n",
       "font-style: italic;\n",
       "font-family: monospace;\n",
       "white-space: pre;\n",
       "display: block;\n",
       "}\n",
       "#unshowable {\n",
       "color: red;\n",
       "font-weight: bold;\n",
       "}\n",
       ".err-msg.in.collapse {\n",
       "padding-top: 0.7em;\n",
       "}\n",
       ".highlight-code {\n",
       "white-space: pre;\n",
       "font-family: monospace;\n",
       "}\n",
       ".suggestion-warning { \n",
       "font-weight: bold;\n",
       "color: rgb(200, 130, 0);\n",
       "}\n",
       ".suggestion-error { \n",
       "font-weight: bold;\n",
       "color: red;\n",
       "}\n",
       ".suggestion-name {\n",
       "font-weight: bold;\n",
       "}\n",
       "</style><span class='mono'>fatal: destination path 'solarized' already exists and is not an empty directory.\n",
       "</span><span class='err-msg'>Process exited with error code 128</span>"
      ],
      "text/plain": [
       "fatal: destination path 'solarized' already exists and is not an empty directory.\n",
       "\n",
       "Process exited with error code 128"
      ]
     },
     "metadata": {},
     "output_type": "display_data"
    },
    {
     "data": {
      "text/plain": [
       "commit e40cd4130e2a82f9b03ada1ca378b7701b1a9110\n",
       "Author: Trevor Bramble <inbox@trevorbramble.com>\n",
       "Date:   Fri Jun 28 22:01:38 2013 -0700\n",
       "\n",
       "    add tmux by @seebi!\n",
       "\n",
       "diff --git a/tmux/README.md b/tmux/README.md\n",
       "new file mode 100644\n",
       "index 0000000..71fabef\n",
       "--- /dev/null\n",
       "+++ b/tmux/README.md\n",
       "@@ -0,0 +1,24 @@\n",
       "+# Solarize color theme tmux configuration\n",
       "+\n",
       "+A tmux solarized theme using Ethan Schoonoverâs [Solarized color scheme](http://ethanschoonover.com/solarized).\n",
       "+\n",
       "+## Repositories\n",
       "+  * This theme as a single repository: [/seebi/tmux-colors-solarized](https://github.com/seebi/tmux-colors-solarized)\n",
       "+  * The main solarized repository: [/altercation/solarized](https://github.com/altercation/solarized)\n",
       "+\n",
       "+## Installation\n",
       "+This config snippet for the terminal multiplexer tmux should be added to your `~/.tmux.conf` configuration file.\n",
       "+\n",
       "+In most cases, you have to force tmux to assume the terminal supports 256 colours.\n",
       "+For this, start tmux as `tmux -2`.\n",
       "+\n",
       "+This color scheme is tested with tmux >= 1.5. tmux 1.1 is reported as not working.\n",
       "+\n",
       "+## Screenshot\n",
       "+Here is a screenshot of a tmux session captured from a gnome-terminal using the [dz-version of the awesome Inconsolata font](http://nodnod.net/2009/feb/12/adding-straight-single-and-double-quotes-inconsola/).\n",
       "+\n",
       "+![screenshot](https://github.com/seebi/tmux-colors-solarized/raw/master/tmuxcolors.png)\n",
       "+\n",
       "+And another one showing different dircolors from the neighboring [dircolors-solarized](https://github.com/seebi/dircolors-solarized) repository.\n",
       "+\n",
       "+![screenshot](https://github.com/seebi/dircolors-solarized/raw/master/img/dircolors.256dark.png)\n",
       "diff --git a/tmux/tmuxcolors-256.conf b/tmux/tmuxcolors-256.conf\n",
       "new file mode 100644\n",
       "index 0000000..eb7ede4\n",
       "--- /dev/null\n",
       "+++ b/tmux/tmuxcolors-256.conf\n",
       "@@ -0,0 +1,31 @@\n",
       "+#### COLOUR (Solarized 256)\n",
       "+\n",
       "+# default statusbar colors\n",
       "+set-option -g status-bg colour235 #base02\n",
       "+set-option -g status-fg colour136 #yellow\n",
       "+set-option -g status-attr default\n",
       "+\n",
       "+# default window title colors\n",
       "+set-window-option -g window-status-fg colour244 #base0\n",
       "+set-window-option -g window-status-bg default\n",
       "+#set-window-option -g window-status-attr dim\n",
       "+\n",
       "+# active window title colors\n",
       "+set-window-option -g window-status-current-fg colour166 #orange\n",
       "+set-window-option -g window-status-current-bg default\n",
       "+#set-window-option -g window-status-current-attr bright\n",
       "+\n",
       "+# pane border\n",
       "+set-option -g pane-border-fg colour235 #base02\n",
       "+set-option -g pane-active-border-fg colour240 #base01\n",
       "+\n",
       "+# message text\n",
       "+set-option -g message-bg colour235 #base02\n",
       "+set-option -g message-fg colour166 #orange\n",
       "+\n",
       "+# pane number display\n",
       "+set-option -g display-panes-active-colour colour33 #blue\n",
       "+set-option -g display-panes-colour colour166 #orange\n",
       "+\n",
       "+# clock\n",
       "+set-window-option -g clock-mode-colour colour64 #green\n",
       "diff --git a/tmux/tmuxcolors-dark.conf b/tmux/tmuxcolors-dark.conf\n",
       "new file mode 100644\n",
       "index 0000000..3fa2ec5\n",
       "--- /dev/null\n",
       "+++ b/tmux/tmuxcolors-dark.conf\n",
       "@@ -0,0 +1,31 @@\n",
       "+#### COLOUR (Solarized dark)\n",
       "+\n",
       "+# default statusbar colors\n",
       "+set-option -g status-bg black #base02\n",
       "+set-option -g status-fg yellow #yellow\n",
       "+set-option -g status-attr default\n",
       "+\n",
       "+# default window title colors\n",
       "+set-window-option -g window-status-fg brightblue #base0\n",
       "+set-window-option -g window-status-bg default\n",
       "+#set-window-option -g window-status-attr dim\n",
       "+\n",
       "+# active window title colors\n",
       "+set-window-option -g window-status-current-fg brightred #orange\n",
       "+set-window-option -g window-status-current-bg default\n",
       "+#set-window-option -g window-status-current-attr bright\n",
       "+\n",
       "+# pane border\n",
       "+set-option -g pane-border-fg black #base02\n",
       "+set-option -g pane-active-border-fg brightgreen #base01\n",
       "+\n",
       "+# message text\n",
       "+set-option -g message-bg black #base02\n",
       "+set-option -g message-fg brightred #orange\n",
       "+\n",
       "+# pane number display\n",
       "+set-option -g display-panes-active-colour blue #blue\n",
       "+set-option -g display-panes-colour brightred #orange\n",
       "+\n",
       "+# clock\n",
       "+set-window-option -g clock-mode-colour green #green\n",
       "diff --git a/tmux/tmuxcolors-light.conf b/tmux/tmuxcolors-light.conf\n",
       "new file mode 100644\n",
       "index 0000000..767152a\n",
       "--- /dev/null\n",
       "+++ b/tmux/tmuxcolors-light.conf\n",
       "@@ -0,0 +1,31 @@\n",
       "+#### COLOUR (Solarized light)\n",
       "+\n",
       "+# default statusbar colors\n",
       "+set-option -g status-bg white #base2\n",
       "+set-option -g status-fg yellow #yellow\n",
       "+set-option -g status-attr default\n",
       "+\n",
       "+# default window title colors\n",
       "+set-window-option -g window-status-fg brightyellow #base00\n",
       "+set-window-option -g window-status-bg default\n",
       "+#set-window-option -g window-status-attr dim\n",
       "+\n",
       "+# active window title colors\n",
       "+set-window-option -g window-status-current-fg brightred #orange\n",
       "+set-window-option -g window-status-current-bg default\n",
       "+#set-window-option -g window-status-current-attr bright\n",
       "+\n",
       "+# pane border\n",
       "+set-option -g pane-border-fg white #base2\n",
       "+set-option -g pane-active-border-fg brightcyan #base1\n",
       "+\n",
       "+# message text\n",
       "+set-option -g message-bg white #base2\n",
       "+set-option -g message-fg brightred #orange\n",
       "+\n",
       "+# pane number display\n",
       "+set-option -g display-panes-active-colour blue #blue\n",
       "+set-option -g display-panes-colour brightred #orange\n",
       "+\n",
       "+# clock\n",
       "+set-window-option -g clock-mode-colour green #green\n",
       "diff --git a/tmux/tmuxcolors.png b/tmux/tmuxcolors.png\n",
       "new file mode 100644\n",
       "index 0000000..190df17\n",
       "Binary files /dev/null and b/tmux/tmuxcolors.png differ"
      ]
     },
     "metadata": {},
     "output_type": "display_data"
    }
   ],
   "source": [
    "{-# LANGUAGE OverloadedStrings #-}\n",
    "\n",
    ":!git clone https://github.com/altercation/solarized\n",
    ":!cd solarized\n",
    ":!git show"
   ]
  },
  {
   "cell_type": "code",
   "execution_count": 2,
   "metadata": {
    "collapsed": false,
    "deletable": true,
    "editable": true
   },
   "outputs": [
    {
     "data": {
      "text/plain": [
       "tree ecd0e58d6832566540a30dfd4878db518d5451d0\n",
       "parent ab3c5646b41de1b6d95782371289db585ba8aa85\n",
       "author Trevor Bramble <inbox@trevorbramble.com> 1372482098 -0700\n",
       "committer Trevor Bramble <inbox@trevorbramble.com> 1372482214 -0700\n",
       "\n",
       "add tmux by @seebi!"
      ]
     },
     "metadata": {},
     "output_type": "display_data"
    }
   ],
   "source": [
    ":!git cat-file -p HEAD"
   ]
  },
  {
   "cell_type": "code",
   "execution_count": 3,
   "metadata": {
    "collapsed": false,
    "deletable": true,
    "editable": true
   },
   "outputs": [
    {
     "data": {
      "text/plain": [
       "ref: refs/heads/master"
      ]
     },
     "metadata": {},
     "output_type": "display_data"
    }
   ],
   "source": [
    ":!cat .git/HEAD"
   ]
  },
  {
   "cell_type": "code",
   "execution_count": 4,
   "metadata": {
    "collapsed": false,
    "deletable": true,
    "editable": true
   },
   "outputs": [
    {
     "data": {
      "text/plain": [
       "e40cd4130e2a82f9b03ada1ca378b7701b1a9110"
      ]
     },
     "metadata": {},
     "output_type": "display_data"
    }
   ],
   "source": [
    ":!cat .git/refs/heads/master"
   ]
  },
  {
   "cell_type": "code",
   "execution_count": 5,
   "metadata": {
    "collapsed": false,
    "deletable": true,
    "editable": true
   },
   "outputs": [
    {
     "data": {
      "text/plain": [
       "tree ecd0e58d6832566540a30dfd4878db518d5451d0\n",
       "parent ab3c5646b41de1b6d95782371289db585ba8aa85\n",
       "author Trevor Bramble <inbox@trevorbramble.com> 1372482098 -0700\n",
       "committer Trevor Bramble <inbox@trevorbramble.com> 1372482214 -0700\n",
       "\n",
       "add tmux by @seebi!"
      ]
     },
     "metadata": {},
     "output_type": "display_data"
    }
   ],
   "source": [
    ":!git cat-file -p e40cd4130e2a82f9b03ada1ca378b7701b1a9110"
   ]
  },
  {
   "cell_type": "code",
   "execution_count": 6,
   "metadata": {
    "collapsed": false,
    "deletable": true,
    "editable": true
   },
   "outputs": [
    {
     "data": {
      "text/plain": [
       ".git/objects/e4/0cd4130e2a82f9b03ada1ca378b7701b1a9110"
      ]
     },
     "metadata": {},
     "output_type": "display_data"
    },
    {
     "data": {
      "text/plain": [
       "x\u0001mj\u00031\f",
       "DûÛ§P\u000eÐâ/ÙZ(%ô\f",
       "¹´RéB\r",
       "®SÛ×^ ¿\u0006\u001e",
       "ÃY÷Ö¶\u00011ÓÓèf`«zCÒB)b)='¯\u001f©\n",
       "\u0006RÌ\u0018Ô»\u000b",
       "w;\u000f`I+\\$\u0007µ E\u0017¬\u0014S\r",
       "Ù'\u0014&fBÇ×ñ¹w8uûñÞ¹ÉÁëvývÓÊ\u0003¾¬{{ê<\u0015ýBðì«÷nÒùtØÿ\u001d",
       "1ä?cU\u0018íz\u0003¹ÃñÛL¶û\u0005È\u0005O"
      ]
     },
     "metadata": {},
     "output_type": "display_data"
    }
   ],
   "source": [
    ":!ls .git/objects/e4/0cd4130e2a82f9b03ada1ca378b7701b1a9110\n",
    ":!cat .git/objects/e4/0cd4130e2a82f9b03ada1ca378b7701b1a9110"
   ]
  },
  {
   "cell_type": "code",
   "execution_count": 7,
   "metadata": {
    "collapsed": false,
    "deletable": true,
    "editable": true
   },
   "outputs": [
    {
     "data": {
      "text/plain": [
       "commit 248\u0000tree ecd0e58d6832566540a30dfd4878db518d5451d0\n",
       "parent ab3c5646b41de1b6d95782371289db585ba8aa85\n",
       "author Trevor Bramble <inbox@trevorbramble.com> 1372482098 -0700\n",
       "committer Trevor Bramble <inbox@trevorbramble.com> 1372482214 -0700\n",
       "\n",
       "add tmux by @seebi!"
      ]
     },
     "metadata": {},
     "output_type": "display_data"
    }
   ],
   "source": [
    ":!zlib-flate -uncompress < .git/objects/e4/0cd4130e2a82f9b03ada1ca378b7701b1a9110"
   ]
  },
  {
   "cell_type": "code",
   "execution_count": 11,
   "metadata": {
    "collapsed": false,
    "deletable": true,
    "editable": true
   },
   "outputs": [],
   "source": [
    "import qualified Codec.Compression.Zlib as Z (compress, decompress)\n",
    "import           Data.ByteString.Lazy        (fromStrict, toStrict)\n",
    "import           Data.ByteString             (ByteString)\n",
    "import qualified Data.ByteString        as B\n",
    "\n",
    "compress, decompress :: ByteString -> ByteString\n",
    "compress   = toStrict . Z.compress   . fromStrict\n",
    "decompress = toStrict . Z.decompress . fromStrict"
   ]
  },
  {
   "cell_type": "code",
   "execution_count": 12,
   "metadata": {
    "collapsed": false,
    "deletable": true,
    "editable": true
   },
   "outputs": [
    {
     "data": {
      "text/plain": [
       "commit 248\u0000tree ecd0e58d6832566540a30dfd4878db518d5451d0\n",
       "parent ab3c5646b41de1b6d95782371289db585ba8aa85\n",
       "author Trevor Bramble <inbox@trevorbramble.com> 1372482098 -0700\n",
       "committer Trevor Bramble <inbox@trevorbramble.com> 1372482214 -0700\n",
       "\n",
       "add tmux by @seebi!"
      ]
     },
     "metadata": {},
     "output_type": "display_data"
    }
   ],
   "source": [
    "commit <- B.readFile \".git/objects/e4/0cd4130e2a82f9b03ada1ca378b7701b1a9110\"\n",
    "decompress commit"
   ]
  },
  {
   "cell_type": "code",
   "execution_count": 13,
   "metadata": {
    "collapsed": false,
    "deletable": true,
    "editable": true
   },
   "outputs": [],
   "source": [
    "import           Data.Attoparsec.ByteString (Parser)\n",
    "import qualified Data.Attoparsec.ByteString.Char8 as AC\n",
    "\n",
    "parsed :: Parser a -> ByteString -> a\n",
    "parsed parser = either error id . AC.parseOnly parser"
   ]
  },
  {
   "cell_type": "code",
   "execution_count": 14,
   "metadata": {
    "collapsed": false,
    "deletable": true,
    "editable": true
   },
   "outputs": [
    {
     "data": {
      "text/plain": [
       "(\"commit\",248)"
      ]
     },
     "metadata": {},
     "output_type": "display_data"
    }
   ],
   "source": [
    "parseHeader :: Parser (ByteString, Int)\n",
    "parseHeader = do\n",
    "    objectType <- AC.takeTill AC.isSpace\n",
    "    AC.space\n",
    "    len <- AC.decimal\n",
    "    AC.char '\\NUL'\n",
    "    return (objectType, len)\n",
    "\n",
    "commit <- decompress <$> B.readFile \".git/objects/e4/0cd4130e2a82f9b03ada1ca378b7701b1a9110\"\n",
    "\n",
    "parsed parseHeader commit"
   ]
  },
  {
   "cell_type": "code",
   "execution_count": 15,
   "metadata": {
    "collapsed": true,
    "deletable": true,
    "editable": true
   },
   "outputs": [],
   "source": [
    "type Ref = ByteString\n",
    "\n",
    "parseHexRef :: Parser Ref\n",
    "parseHexRef = AC.take 40"
   ]
  },
  {
   "cell_type": "code",
   "execution_count": 16,
   "metadata": {
    "collapsed": false,
    "deletable": true,
    "editable": true
   },
   "outputs": [
    {
     "data": {
      "text/plain": [
       "Commit {commitTree = \"ecd0e58d6832566540a30dfd4878db518d5451d0\", commitParents = [\"ab3c5646b41de1b6d95782371289db585ba8aa85\"], commitAuthor = \"Trevor Bramble <inbox@trevorbramble.com> 1372482098 -0700\", commitCommitter = \"Trevor Bramble <inbox@trevorbramble.com> 1372482214 -0700\", commitMessage = \"add tmux by @seebi!\\n\"}"
      ]
     },
     "metadata": {},
     "output_type": "display_data"
    }
   ],
   "source": [
    "data Commit = Commit\n",
    "    { commitTree      :: Ref\n",
    "    , commitParents   :: [Ref]\n",
    "    , commitAuthor    :: ByteString\n",
    "    , commitCommitter :: ByteString\n",
    "    , commitMessage   :: ByteString\n",
    "    } deriving (Eq, Show)\n",
    "\n",
    "parseCommit = do\n",
    "    cTree      <-           AC.string \"tree\"      *> AC.space *> parseHexRef                   <* AC.endOfLine\n",
    "    cParents   <- AC.many' (AC.string \"parent\"    *> AC.space *> parseHexRef                   <* AC.endOfLine)\n",
    "    cAuthor    <-           AC.string \"author\"    *> AC.space *> AC.takeTill (AC.inClass \"\\n\") <* AC.endOfLine\n",
    "    cCommitter <-           AC.string \"committer\" *> AC.space *> AC.takeTill (AC.inClass \"\\n\") <* AC.endOfLine\n",
    "    AC.endOfLine\n",
    "    cMessage   <- AC.takeByteString\n",
    "    return $ Commit cTree cParents cAuthor cCommitter cMessage\n",
    "\n",
    "parsed (parseHeader *> parseCommit) commit"
   ]
  },
  {
   "cell_type": "code",
   "execution_count": 18,
   "metadata": {
    "collapsed": false,
    "deletable": true,
    "editable": true
   },
   "outputs": [
    {
     "data": {
      "text/plain": [
       "True"
      ]
     },
     "metadata": {},
     "output_type": "display_data"
    }
   ],
   "source": [
    "import Data.Monoid ((<>), mappend, mconcat)\n",
    "import Data.Byteable\n",
    "\n",
    "instance Byteable Commit where\n",
    "    toBytes (Commit cTree cParents cAuthor cCommitter cMessage) = mconcat\n",
    "        [                       \"tree \"      <> cTree      <> \"\\n\"\n",
    "        , mconcat (map (\\ref -> \"parent \"    <> ref        <> \"\\n\") cParents)\n",
    "        ,                       \"author \"    <> cAuthor    <> \"\\n\"\n",
    "        ,                       \"committer \" <> cCommitter <> \"\\n\"\n",
    "        ,                                                     \"\\n\"\n",
    "        ,                                       cMessage\n",
    "        ]\n",
    "\n",
    "parsedCommit = parsed (parseHeader *> parseCommit) commit\n",
    "(parsed parseCommit . toBytes $ parsedCommit) == parsedCommit"
   ]
  },
  {
   "cell_type": "code",
   "execution_count": 19,
   "metadata": {
    "collapsed": false,
    "deletable": true,
    "editable": true
   },
   "outputs": [
    {
     "data": {
      "text/plain": [
       "commit 248\u0000tree ecd0e58d6832566540a30dfd4878db518d5451d0\n",
       "parent ab3c5646b41de1b6d95782371289db585ba8aa85\n",
       "author Trevor Bramble <inbox@trevorbramble.com> 1372482098 -0700\n",
       "committer Trevor Bramble <inbox@trevorbramble.com> 1372482214 -0700\n",
       "\n",
       "add tmux by @seebi!"
      ]
     },
     "metadata": {},
     "output_type": "display_data"
    }
   ],
   "source": [
    "import Data.ByteString.UTF8 (fromString, toString)\n",
    "\n",
    "withHeader :: ByteString -> ByteString -> ByteString\n",
    "withHeader oType content = mconcat [oType, \" \", fromString . show $ B.length content, \"\\NUL\", content]\n",
    "\n",
    "withHeader \"commit\" (toBytes parsedCommit)"
   ]
  },
  {
   "cell_type": "code",
   "execution_count": 20,
   "metadata": {
    "collapsed": false,
    "deletable": true,
    "editable": true
   },
   "outputs": [
    {
     "data": {
      "text/plain": [
       "e40cd4130e2a82f9b03ada1ca378b7701b1a9110"
      ]
     },
     "metadata": {},
     "output_type": "display_data"
    }
   ],
   "source": [
    "import Data.Digest.Pure.SHA\n",
    "\n",
    "hash :: ByteString -> Ref\n",
    "hash = fromString . showDigest . sha1 . fromStrict\n",
    "\n",
    "hash (withHeader \"commit\" (toBytes parsedCommit))"
   ]
  },
  {
   "cell_type": "code",
   "execution_count": 21,
   "metadata": {
    "collapsed": false,
    "deletable": true,
    "editable": true
   },
   "outputs": [
    {
     "data": {
      "text/plain": [
       "100644 blob e69de29bb2d1d6434b8b29ae775ad8c2e48c5391\t.gitmodules\n",
       "100644 blob ec00a76061539cf774614788270214499696f871\tCHANGELOG.mkd\n",
       "100644 blob f95aaf80007d225f00d3109987ee42ef2c2e0c0a\tDEVELOPERS.mkd\n",
       "100644 blob ee08d7e44f15108ef5359550399dad55955b56ca\tLICENSE\n",
       "100644 blob d18ee9450251ea1b9a02ebd4d6fce022df9eb5e4\tREADME.md\n",
       "040000 tree 1981c76881c6a14e14d067a44247acd1bf6bbc3a\tadobe-swatches-solarized\n",
       "040000 tree 825c732bdd3a62aeb543ca89026a26a2ee0fba26\tapple-colorpalette-solarized\n",
       "040000 tree 7bab2828df5de23262a821cc48fe0ccf8bd2a9ae\temacs-colors-solarized\n",
       "040000 tree f5fe8c3e20b2577223f617683a52eac31c5c9f30\tfiles\n",
       "040000 tree 5b60111510dbb3d8560cf58a36a20a99fc175658\tgedit\n",
       "040000 tree 60c9df3d6e1994b76d72c061a02639af3d925655\tgimp-palette-solarized\n",
       "040000 tree 979cf43752e4d698c7b5b47cff665142a274c133\timg\n",
       "040000 tree 3ff6d431303b66cc50e45b6fabd72302f210aebc\tintellij-colors-solarized\n",
       "040000 tree 8f387a531ad08f146c86e4b6007b898064ad4d7f\titerm2-colors-solarized\n",
       "040000 tree 1e37592e62c85909be4c5e5eb774f177766e8422\tmutt-colors-solarized\n",
       "040000 tree 8f321f917040d903f701a2b33aeee26aed2ee544\tnetbeans-colors-solarized\n",
       "040000 tree 0d408465820822f6a2afccf43e9627375fedc278\tosx-terminal.app-colors-solarized\n",
       "040000 tree 63dfa6c40d214f8e0f76d39f7a2283e053940a19\tputty-colors-solarized\n",
       "040000 tree 453921a267d3eb855e40c7de73aee46088563f3e\tqtcreator\n",
       "040000 tree 5dd6832a324187f8f521bef928891fb87cf845f6\tseestyle-colors-solarized\n",
       "040000 tree 3c15973ed107e7b37d1c4885f82984658ecbdf6a\ttextmate-colors-solarized\n",
       "040000 tree 4db152b36a47e31a872e778c02161f537888e44b\ttextwrangler-bbedit-colors-solarized\n",
       "040000 tree 09b5f2f69e1596c6ff66fb187ea6bdc385845152\ttmux\n",
       "040000 tree 635ebbb919fcbbaf6fe958998553bf3f5fe09210\tutils\n",
       "040000 tree b87a2100b0a79424cd4b2a4e4ef03274b130a206\tvim-colors-solarized\n",
       "040000 tree 8dea7190b79c05404aa6a1f0d67c5c6671d66fe1\tvisualstudio-colors-solarized\n",
       "040000 tree 0a531826e913a4b11823ee1be6e1b367f826006f\txchat\n",
       "040000 tree 2870bdf394a6b6b3bd10c263ffe9396a0d3d3366\txfce4-terminal\n",
       "040000 tree 5d1a212e2fd9cdc2b678e3be56cf776b2f16cfe2\txresources"
      ]
     },
     "metadata": {},
     "output_type": "display_data"
    }
   ],
   "source": [
    ":!git cat-file -p ecd0e58d6832566540a30dfd4878db518d5451d0"
   ]
  },
  {
   "cell_type": "code",
   "execution_count": 55,
   "metadata": {
    "collapsed": false,
    "deletable": true,
    "editable": true
   },
   "outputs": [
    {
     "data": {
      "text/plain": [
       "tree 1282\u0000100644 .gitmodules\u0000�⛲��CK�)�wZ���S�100644 CHANGELOG.mkd\u0000�\u0000�`aS��taG�'\u0002\u0014I���q100644 DEVELOPERS.mkd\u0000�Z��\u0000}\"_\u0000�\u0010���B�,.\f",
       "\n",
       "100644 LICENSE\u0000�\b��O\u0015\u0010��5�P9��U�[V�100644 README.md\u0000ю�E\u0002Q�\u001b�\u0002�����\"ߞ��40000 adobe-swatches-solarized\u0000\u0019��h�ơN\u0014�g�BG�ѿk�:40000 apple-colorpalette-solarized\u0000�\\s+�:b��Cʉ\u0002j&��\u000f�&40000 emacs-colors-solarized\u0000{�((�]�2b�!�H�\f",
       "ϋҩ�40000 files\u0000���> �Wr#�\u0017h:R��\u001c",
       "\\�040000 gedit\u0000[`\u0011\u0015\u0010۳�V\f",
       "�6�\n",
       "��\u0017VX40000 gimp-palette-solarized\u0000`��=n\u0019��mr�a�&9�=�VU40000 img\u0000���7R�֘ǵ�|�fQB�t�340000 intellij-colors-solarized\u0000?��10;f�P�[o��#\u0002�\u0010��40000 iterm2-colors-solarized\u0000�8zS\u001aЏ\u0014l��\u0000{��d�M40000 mutt-colors-solarized\u0000\u001e",
       "7Y.b�Y\t�L^^�t�wvn�\"40000 netbeans-colors-solarized\u0000�2\u001f�p@�\u0003�\u0001��:��j�.�D40000 osx-terminal.app-colors-solarized\u0000\r",
       "@�e�\b\"���>�'7_��x40000 putty-colors-solarized\u0000cߦ�\r",
       "!O�\u000fvӟz\"��S�\n",
       "\u001940000 qtcreator\u0000E9!�g��^@��s��`�V?>40000 seestyle-colors-solarized\u0000]փ*2A���!��(�\u001f�|�E�40000 textmate-colors-solarized\u0000<\u0015�>�\u0007�}\u001c",
       "H��)�e���j40000 textwrangler-bbedit-colors-solarized\u0000M�R�jG�\u001a�.w�\u0002\u0016\u001fSx��K40000 tmux\u0000\t���\u0015���f�\u0018~��Å�QR40000 utils\u0000c^��\u0019���o�X��S�?_�\u001040000 vim-colors-solarized\u0000�z!\u0000���$�K*NN�2t�0�\u000640000 visualstudio-colors-solarized\u0000��q���\u0005@J����|\\fq�o�40000 xchat\u0000\n",
       "S\u0018&�\u0013��\u0018#�\u001b��g�&\u0000o40000 xfce4-terminal\u0000(p�󔦶��\u0010�c��9j\r",
       "=3f40000 xresources\u0000]\u001a!./��¶x�V�wk/\u0016��"
      ]
     },
     "metadata": {},
     "output_type": "display_data"
    }
   ],
   "source": [
    "decompress <$> B.readFile \".git/objects/ec/d0e58d6832566540a30dfd4878db518d5451d0\""
   ]
  },
  {
   "cell_type": "code",
   "execution_count": 23,
   "metadata": {
    "collapsed": false,
    "deletable": true,
    "editable": true
   },
   "outputs": [
    {
     "data": {
      "text/plain": [
       "Tree {treeEntries = [TreeEntry {entryPerms = \"100644\", entryName = \".gitmodules\", entryRef = \"e69de29bb2d1d6434b8b29ae775ad8c2e48c5391\"},TreeEntry {entryPerms = \"100644\", entryName = \"CHANGELOG.mkd\", entryRef = \"ec00a76061539cf774614788270214499696f871\"},TreeEntry {entryPerms = \"100644\", entryName = \"DEVELOPERS.mkd\", entryRef = \"f95aaf80007d225f00d3109987ee42ef2c2e0c0a\"},TreeEntry {entryPerms = \"100644\", entryName = \"LICENSE\", entryRef = \"ee08d7e44f15108ef5359550399dad55955b56ca\"},TreeEntry {entryPerms = \"100644\", entryName = \"README.md\", entryRef = \"d18ee9450251ea1b9a02ebd4d6fce022df9eb5e4\"},TreeEntry {entryPerms = \"40000\", entryName = \"adobe-swatches-solarized\", entryRef = \"1981c76881c6a14e14d067a44247acd1bf6bbc3a\"},TreeEntry {entryPerms = \"40000\", entryName = \"apple-colorpalette-solarized\", entryRef = \"825c732bdd3a62aeb543ca89026a26a2ee0fba26\"},TreeEntry {entryPerms = \"40000\", entryName = \"emacs-colors-solarized\", entryRef = \"7bab2828df5de23262a821cc48fe0ccf8bd2a9ae\"},TreeEntry {entryPerms = \"40000\", entryName = \"files\", entryRef = \"f5fe8c3e20b2577223f617683a52eac31c5c9f30\"},TreeEntry {entryPerms = \"40000\", entryName = \"gedit\", entryRef = \"5b60111510dbb3d8560cf58a36a20a99fc175658\"},TreeEntry {entryPerms = \"40000\", entryName = \"gimp-palette-solarized\", entryRef = \"60c9df3d6e1994b76d72c061a02639af3d925655\"},TreeEntry {entryPerms = \"40000\", entryName = \"img\", entryRef = \"979cf43752e4d698c7b5b47cff665142a274c133\"},TreeEntry {entryPerms = \"40000\", entryName = \"intellij-colors-solarized\", entryRef = \"3ff6d431303b66cc50e45b6fabd72302f210aebc\"},TreeEntry {entryPerms = \"40000\", entryName = \"iterm2-colors-solarized\", entryRef = \"8f387a531ad08f146c86e4b6007b898064ad4d7f\"},TreeEntry {entryPerms = \"40000\", entryName = \"mutt-colors-solarized\", entryRef = \"1e37592e62c85909be4c5e5eb774f177766e8422\"},TreeEntry {entryPerms = \"40000\", entryName = \"netbeans-colors-solarized\", entryRef = \"8f321f917040d903f701a2b33aeee26aed2ee544\"},TreeEntry {entryPerms = \"40000\", entryName = \"osx-terminal.app-colors-solarized\", entryRef = \"0d408465820822f6a2afccf43e9627375fedc278\"},TreeEntry {entryPerms = \"40000\", entryName = \"putty-colors-solarized\", entryRef = \"63dfa6c40d214f8e0f76d39f7a2283e053940a19\"},TreeEntry {entryPerms = \"40000\", entryName = \"qtcreator\", entryRef = \"453921a267d3eb855e40c7de73aee46088563f3e\"},TreeEntry {entryPerms = \"40000\", entryName = \"seestyle-colors-solarized\", entryRef = \"5dd6832a324187f8f521bef928891fb87cf845f6\"},TreeEntry {entryPerms = \"40000\", entryName = \"textmate-colors-solarized\", entryRef = \"3c15973ed107e7b37d1c4885f82984658ecbdf6a\"},TreeEntry {entryPerms = \"40000\", entryName = \"textwrangler-bbedit-colors-solarized\", entryRef = \"4db152b36a47e31a872e778c02161f537888e44b\"},TreeEntry {entryPerms = \"40000\", entryName = \"tmux\", entryRef = \"09b5f2f69e1596c6ff66fb187ea6bdc385845152\"},TreeEntry {entryPerms = \"40000\", entryName = \"utils\", entryRef = \"635ebbb919fcbbaf6fe958998553bf3f5fe09210\"},TreeEntry {entryPerms = \"40000\", entryName = \"vim-colors-solarized\", entryRef = \"b87a2100b0a79424cd4b2a4e4ef03274b130a206\"},TreeEntry {entryPerms = \"40000\", entryName = \"visualstudio-colors-solarized\", entryRef = \"8dea7190b79c05404aa6a1f0d67c5c6671d66fe1\"},TreeEntry {entryPerms = \"40000\", entryName = \"xchat\", entryRef = \"0a531826e913a4b11823ee1be6e1b367f826006f\"},TreeEntry {entryPerms = \"40000\", entryName = \"xfce4-terminal\", entryRef = \"2870bdf394a6b6b3bd10c263ffe9396a0d3d3366\"},TreeEntry {entryPerms = \"40000\", entryName = \"xresources\", entryRef = \"5d1a212e2fd9cdc2b678e3be56cf776b2f16cfe2\"}]}"
      ]
     },
     "metadata": {},
     "output_type": "display_data"
    }
   ],
   "source": [
    "import Data.ByteString.Base16 (encode)\n",
    "\n",
    "parseBinRef :: Parser Ref\n",
    "parseBinRef = encode <$> AC.take 20\n",
    "\n",
    "data Tree = Tree { treeEntries :: [TreeEntry] } deriving (Eq, Show)\n",
    "\n",
    "data TreeEntry = TreeEntry\n",
    "    { treeEntryPerms :: ByteString\n",
    "    , treeEntryName  :: ByteString\n",
    "    , treeEntryRef   :: Ref\n",
    "    } deriving (Eq, Show)\n",
    "\n",
    "parseTreeEntry :: Parser TreeEntry\n",
    "parseTreeEntry = do\n",
    "    perms <- fromString <$> AC.many1' AC.digit\n",
    "    AC.space\n",
    "    name  <- AC.takeWhile (/='\\NUL')\n",
    "    AC.char '\\NUL'\n",
    "    ref   <- parseBinRef\n",
    "    return $ TreeEntry perms name ref\n",
    "\n",
    "parseTree :: Parser Tree\n",
    "parseTree = Tree <$> AC.many' parseTreeEntry\n",
    "\n",
    "tree <- decompress <$> B.readFile \".git/objects/ec/d0e58d6832566540a30dfd4878db518d5451d0\"\n",
    "\n",
    "parsedTree = parsed (parseHeader *> parseTree) tree\n",
    "parsedTree"
   ]
  },
  {
   "cell_type": "code",
   "execution_count": 26,
   "metadata": {
    "collapsed": false,
    "deletable": true,
    "editable": true
   },
   "outputs": [
    {
     "data": {
      "text/plain": [
       "True"
      ]
     },
     "metadata": {},
     "output_type": "display_data"
    }
   ],
   "source": [
    "import Data.ByteString.Base16 (decode)\n",
    "\n",
    "instance Byteable TreeEntry where\n",
    "    toBytes (TreeEntry perms name ref) = mconcat [perms, \" \", name, \"\\NUL\", fst $ decode ref]\n",
    "\n",
    "instance Byteable Tree where\n",
    "    toBytes (Tree entries) = mconcat (map toBytes entries)\n",
    "\n",
    "(parsed parseTree . toBytes $ parsedTree) == parsedTree"
   ]
  },
  {
   "cell_type": "code",
   "execution_count": 30,
   "metadata": {
    "collapsed": false
   },
   "outputs": [
    {
     "data": {
      "text/plain": [
       "Solarized Changelog\n",
       "===================\n",
       "\n",
       "## Current release 1.0.0beta2\n",
       "\n",
       "1.0.0beta2\n",
       "----------\n",
       "\n",
       "### Summary\n",
       "\n",
       "Switch to the alternative red hue (final and only hue change), included a whole\n",
       "heap of new ports and updates to the existing Vim colorscheme. The list of all \n",
       "currently included ports, highlighted items are new, updates noted:\n",
       "\n",
       "#### Editors & IDEs\n",
       "\n",
       "*   \\[UPDATED\\] **Vim**\n",
       "*   \\[NEW\\] ***Emacs***\n",
       "*   \\[NEW\\] ***IntelliJ IDEA***\n",
       "*   \\[NEW\\] ***NetBeans***\n",
       "*   \\[NEW\\] ***SeeStyle theme for Coda & SubEthaEdit***\n",
       "*   \\[NEW\\] ***TextMate***\n",
       "*   \\[NEW\\] ***Visual Studio***\n",
       "\n",
       "#### Terminal Emulators\n",
       "\n",
       "* \\[UPDATED\\] **iTerm2 colorschemes**\n",
       "* \\[UPDATED\\] **OS X Terminal.app colors**\n",
       "* \\[UPDATED\\] **Xresources colors**\n",
       "\n",
       "#### Other Applications\n",
       "\n",
       "* \\[UPDATED\\] **Mutt mail client colorschemes**\n",
       "\n",
       "#### Palettes\n",
       "\n",
       "* \\[UPDATED\\] **Adobe Photoshop Swatches**\n",
       "* \\[UPDATED\\] **Apple Color Picker Palette**\n",
       "* \\[UPDATED\\] **Gimp Palette**\n",
       "\n",
       "\n",
       "### Critical Changes\n",
       "\n",
       "These changes may require you to change your configuration.\n",
       "\n",
       "*   **GLOBAL : IMPROVEMENT : New red accent color value**\n",
       "    Modified red from L\\*a\\*b lightness value 45 to 50 to bring it in\n",
       "    line with the other accent colors and address bleed into dark background on \n",
       "    some displays, as well as reducing shift of red against base03 when viewed \n",
       "    with glasses (chromatic aberration). All instances of the colorscheme and \n",
       "    palettes updated to new red and avalailable for use/import without further \n",
       "    modification. Forks and ports should pull new changes and/or update ported \n",
       "    red value accordingly.  The new red:\n",
       "\n",
       "            red #dc322f\n",
       "\n",
       "*   **VIM : CHANGE : Default mode now 16 color**\n",
       "    Default terminal mode is now ***16 colors***. Most of the users of terminal \n",
       "    mode seem comfortabel and capable changing terminal colors. This is the \n",
       "    preferred method of implementing Solarized in Terminal mode. If you wish to \n",
       "    instead use the degraded 256 color palette, you may do so with the \n",
       "    following line in your .vimrc:\n",
       "\n",
       "            let g:solarized_termcolors=256\n",
       "\n",
       "    You no longer need to specify \"let g:solarized_termcolors=16\" as it is now \n",
       "    the default; leaving it in your .vimrc won't hurt anything, however.\n",
       "\n",
       "*   **VIM : IMPROVEMENT : New Toggle Background Plugin**\n",
       "    Added new Toggle Background plugin. Will load automatically and show up as \n",
       "    a menu item in the `Window` menu in gui vim. Automatically maps to\n",
       "    `<F5>` if available (won't clobber that mapping if you're using it).\n",
       "    Also available as a command `:ToggleBG`.  To manually map to\n",
       "    something other than `<F5>`:\n",
       "\n",
       "    To set your own mapping in your .vimrc file, simply add the following line \n",
       "    to support normal, insert and visual mode usage, changing the\n",
       "    \"`<F5>`\" value to the key or key combination you wish to use:\n",
       "\n",
       "        call togglebg#map(\"<F5>\")\n",
       "\n",
       "    Note that you'll want to use a single function key or equivalent if you want \n",
       "    the plugin to work in all modes (normal, insert, visual).\n",
       "\n",
       "*   **VIM : IMPROVEMENT : Special & Non-text items now more visible**\n",
       "    Special characters such as trailing whitespace, tabs, newlines, when \n",
       "    displayed using \":set list\" can be set to one of three levels depending on \n",
       "    your needs.\n",
       "\n",
       "            let g:solarized_visibility =  \"normal\"|   \"high\" or \"low\"\n",
       "\n",
       "    I'll be honest: I still prefer low visibility. I like them barely there.  \n",
       "    They show up in lines that are highlighted as by the cursor line, which \n",
       "    works for me. If you are with me on this, put the following in your .vimrc:\n",
       "\n",
       "            let g:solarized_visibility =  \"low\"\n",
       "\n",
       "### Non Critical Changes\n",
       "\n",
       "These changes should not impact your usage of the Solarized.\n",
       "\n",
       "*   **PALETTES : IMPROVEMENT : Colorspace tagged and untagged versions**\n",
       "    Changed default OS X color picker palatte swatches to tagged colors (sRGB) \n",
       "    and included alternate palette with untagged color swatches for advanced \n",
       "    users (v1.0.0beta1 had untagged as default).\n",
       "\n",
       "*   **VIM : BUGFIX : Better display in Terminal.app, other emulators**\n",
       "    Terminal.app and other common terminal emulators that report 8 color mode \n",
       "    had display issues due to order of synt highlighting definitions and color \n",
       "    values specified. These have been conformed and reordered in such a way \n",
       "    that there is a more graceful degrading of the Solarized color palette on \n",
       "    8 color terminals. Infact, the experience should be almost identical to gui \n",
       "    other than lack of bold typeface.\n",
       "\n",
       "*   **VIM : BUGFIX : Better distinction between status bar and split windows**\n",
       "    Status bar was previously too similar to the cursor line and window splits.  \n",
       "    This has now been changed significantly to improve the clarity of what is \n",
       "    status, cursor line and window separator.\n",
       "\n",
       "*   **VIM : STREAMLINED : Removed simultaneous gui/cterm definitions**\n",
       "*   Refactored solarized.vim to eliminate simultaneous definition of gui and \n",
       "    cterm values.\n",
       "\n",
       "*   **VIM : BUGFIX : Removed italicized front in terminal mode**\n",
       "    Removed default italicized font in terminal mode in the Solarized Vim\n",
       "    colorscheme (many terminal emulators display Vim italics as reversed type).  \n",
       "    Italics still used in GUI mode by default and can still be turned off in \n",
       "    both modes by setting a variable: `let g:solarized_italic=0`.\n",
       "\n",
       "1.0.0beta1\n",
       "----------\n",
       "\n",
       "First public release. Included:\n",
       "\n",
       "* Adobe Photoshop Swatches\n",
       "* Apple Color Picker Palette\n",
       "* Gimp Palette\n",
       "* iTerm2 colorschemes\n",
       "* Mutt mail client colorschemes\n",
       "* OS X Terminal.app colors\n",
       "* Vim Colorscheme\n",
       "* Xresources colors\n",
       "\n",
       "\n",
       "\n",
       "***\n",
       "\n",
       "MODIFIED: 2011 Apr 16"
      ]
     },
     "metadata": {},
     "output_type": "display_data"
    }
   ],
   "source": [
    ":!git cat-file -p ec00a76061539cf774614788270214499696f871"
   ]
  },
  {
   "cell_type": "code",
   "execution_count": 33,
   "metadata": {
    "collapsed": false
   },
   "outputs": [
    {
     "data": {
      "text/plain": [
       "blob 5549\u0000Solarized Changelog\n",
       "===================\n",
       "\n",
       "## Current release 1.0.0beta2\n",
       "\n",
       "1.0.0beta2\n",
       "----------\n",
       "\n",
       "### Summary\n",
       "\n",
       "Switch to the alternative red hue (final and only hue change), included a whole\n",
       "heap of new ports and updates to the existing Vim colorscheme. The list of all \n",
       "currently included ports, highlighted items are new, updates noted:\n",
       "\n",
       "#### Editors & IDEs\n",
       "\n",
       "*   \\[UPDATED\\] **Vim**\n",
       "*   \\[NEW\\] ***Emacs***\n",
       "*   \\[NEW\\] ***IntelliJ IDEA***\n",
       "*   \\[NEW\\] ***NetBeans***\n",
       "*   \\[NEW\\] ***SeeStyle theme for Coda & SubEthaEdit***\n",
       "*   \\[NEW\\] ***TextMate***\n",
       "*   \\[NEW\\] ***Visual Studio***\n",
       "\n",
       "#### Terminal Emulators\n",
       "\n",
       "* \\[UPDATED\\] **iTerm2 colorschemes**\n",
       "* \\[UPDATED\\] **OS X Terminal.app colors**\n",
       "* \\[UPDATED\\] **Xresources colors**\n",
       "\n",
       "#### Other Applications\n",
       "\n",
       "* \\[UPDATED\\] **Mutt mail client colorschemes**\n",
       "\n",
       "#### Palettes\n",
       "\n",
       "* \\[UPDATED\\] **Adobe Photoshop Swatches**\n",
       "* \\[UPDATED\\] **Apple Color Picker Palette**\n",
       "* \\[UPDATED\\] **Gimp Palette**\n",
       "\n",
       "\n",
       "### Critical Changes\n",
       "\n",
       "These changes may require you to change your configuration.\n",
       "\n",
       "*   **GLOBAL : IMPROVEMENT : New red accent color value**\n",
       "    Modified red from L\\*a\\*b lightness value 45 to 50 to bring it in\n",
       "    line with the other accent colors and address bleed into dark background on \n",
       "    some displays, as well as reducing shift of red against base03 when viewed \n",
       "    with glasses (chromatic aberration). All instances of the colorscheme and \n",
       "    palettes updated to new red and avalailable for use/import without further \n",
       "    modification. Forks and ports should pull new changes and/or update ported \n",
       "    red value accordingly.  The new red:\n",
       "\n",
       "            red #dc322f\n",
       "\n",
       "*   **VIM : CHANGE : Default mode now 16 color**\n",
       "    Default terminal mode is now ***16 colors***. Most of the users of terminal \n",
       "    mode seem comfortabel and capable changing terminal colors. This is the \n",
       "    preferred method of implementing Solarized in Terminal mode. If you wish to \n",
       "    instead use the degraded 256 color palette, you may do so with the \n",
       "    following line in your .vimrc:\n",
       "\n",
       "            let g:solarized_termcolors=256\n",
       "\n",
       "    You no longer need to specify \"let g:solarized_termcolors=16\" as it is now \n",
       "    the default; leaving it in your .vimrc won't hurt anything, however.\n",
       "\n",
       "*   **VIM : IMPROVEMENT : New Toggle Background Plugin**\n",
       "    Added new Toggle Background plugin. Will load automatically and show up as \n",
       "    a menu item in the `Window` menu in gui vim. Automatically maps to\n",
       "    `<F5>` if available (won't clobber that mapping if you're using it).\n",
       "    Also available as a command `:ToggleBG`.  To manually map to\n",
       "    something other than `<F5>`:\n",
       "\n",
       "    To set your own mapping in your .vimrc file, simply add the following line \n",
       "    to support normal, insert and visual mode usage, changing the\n",
       "    \"`<F5>`\" value to the key or key combination you wish to use:\n",
       "\n",
       "        call togglebg#map(\"<F5>\")\n",
       "\n",
       "    Note that you'll want to use a single function key or equivalent if you want \n",
       "    the plugin to work in all modes (normal, insert, visual).\n",
       "\n",
       "*   **VIM : IMPROVEMENT : Special & Non-text items now more visible**\n",
       "    Special characters such as trailing whitespace, tabs, newlines, when \n",
       "    displayed using \":set list\" can be set to one of three levels depending on \n",
       "    your needs.\n",
       "\n",
       "            let g:solarized_visibility =  \"normal\"|   \"high\" or \"low\"\n",
       "\n",
       "    I'll be honest: I still prefer low visibility. I like them barely there.  \n",
       "    They show up in lines that are highlighted as by the cursor line, which \n",
       "    works for me. If you are with me on this, put the following in your .vimrc:\n",
       "\n",
       "            let g:solarized_visibility =  \"low\"\n",
       "\n",
       "### Non Critical Changes\n",
       "\n",
       "These changes should not impact your usage of the Solarized.\n",
       "\n",
       "*   **PALETTES : IMPROVEMENT : Colorspace tagged and untagged versions**\n",
       "    Changed default OS X color picker palatte swatches to tagged colors (sRGB) \n",
       "    and included alternate palette with untagged color swatches for advanced \n",
       "    users (v1.0.0beta1 had untagged as default).\n",
       "\n",
       "*   **VIM : BUGFIX : Better display in Terminal.app, other emulators**\n",
       "    Terminal.app and other common terminal emulators that report 8 color mode \n",
       "    had display issues due to order of synt highlighting definitions and color \n",
       "    values specified. These have been conformed and reordered in such a way \n",
       "    that there is a more graceful degrading of the Solarized color palette on \n",
       "    8 color terminals. Infact, the experience should be almost identical to gui \n",
       "    other than lack of bold typeface.\n",
       "\n",
       "*   **VIM : BUGFIX : Better distinction between status bar and split windows**\n",
       "    Status bar was previously too similar to the cursor line and window splits.  \n",
       "    This has now been changed significantly to improve the clarity of what is \n",
       "    status, cursor line and window separator.\n",
       "\n",
       "*   **VIM : STREAMLINED : Removed simultaneous gui/cterm definitions**\n",
       "*   Refactored solarized.vim to eliminate simultaneous definition of gui and \n",
       "    cterm values.\n",
       "\n",
       "*   **VIM : BUGFIX : Removed italicized front in terminal mode**\n",
       "    Removed default italicized font in terminal mode in the Solarized Vim\n",
       "    colorscheme (many terminal emulators display Vim italics as reversed type).  \n",
       "    Italics still used in GUI mode by default and can still be turned off in \n",
       "    both modes by setting a variable: `let g:solarized_italic=0`.\n",
       "\n",
       "1.0.0beta1\n",
       "----------\n",
       "\n",
       "First public release. Included:\n",
       "\n",
       "* Adobe Photoshop Swatches\n",
       "* Apple Color Picker Palette\n",
       "* Gimp Palette\n",
       "* iTerm2 colorschemes\n",
       "* Mutt mail client colorschemes\n",
       "* OS X Terminal.app colors\n",
       "* Vim Colorscheme\n",
       "* Xresources colors\n",
       "\n",
       "\n",
       "\n",
       "***\n",
       "\n",
       "MODIFIED: 2011 Apr 16"
      ]
     },
     "metadata": {},
     "output_type": "display_data"
    }
   ],
   "source": [
    "blob <- decompress <$> B.readFile \".git/objects/ec/00a76061539cf774614788270214499696f871\"\n",
    "blob"
   ]
  },
  {
   "cell_type": "code",
   "execution_count": 34,
   "metadata": {
    "collapsed": false
   },
   "outputs": [
    {
     "data": {
      "text/plain": [
       "Blob {blobContent = \"Solarized Changelog\\n===================\\n\\n## Current release 1.0.0beta2\\n\\n1.0.0beta2\\n----------\\n\\n### Summary\\n\\nSwitch to the alternative red hue (final and only hue change), included a whole\\nheap of new ports and updates to the existing Vim colorscheme. The list of all \\ncurrently included ports, highlighted items are new, updates noted:\\n\\n#### Editors & IDEs\\n\\n*   \\\\[UPDATED\\\\] **Vim**\\n*   \\\\[NEW\\\\] ***Emacs***\\n*   \\\\[NEW\\\\] ***IntelliJ IDEA***\\n*   \\\\[NEW\\\\] ***NetBeans***\\n*   \\\\[NEW\\\\] ***SeeStyle theme for Coda & SubEthaEdit***\\n*   \\\\[NEW\\\\] ***TextMate***\\n*   \\\\[NEW\\\\] ***Visual Studio***\\n\\n#### Terminal Emulators\\n\\n* \\\\[UPDATED\\\\] **iTerm2 colorschemes**\\n* \\\\[UPDATED\\\\] **OS X Terminal.app colors**\\n* \\\\[UPDATED\\\\] **Xresources colors**\\n\\n#### Other Applications\\n\\n* \\\\[UPDATED\\\\] **Mutt mail client colorschemes**\\n\\n#### Palettes\\n\\n* \\\\[UPDATED\\\\] **Adobe Photoshop Swatches**\\n* \\\\[UPDATED\\\\] **Apple Color Picker Palette**\\n* \\\\[UPDATED\\\\] **Gimp Palette**\\n\\n\\n### Critical Changes\\n\\nThese changes may require you to change your configuration.\\n\\n*   **GLOBAL : IMPROVEMENT : New red accent color value**\\n    Modified red from L\\\\*a\\\\*b lightness value 45 to 50 to bring it in\\n    line with the other accent colors and address bleed into dark background on \\n    some displays, as well as reducing shift of red against base03 when viewed \\n    with glasses (chromatic aberration). All instances of the colorscheme and \\n    palettes updated to new red and avalailable for use/import without further \\n    modification. Forks and ports should pull new changes and/or update ported \\n    red value accordingly.  The new red:\\n\\n            red #dc322f\\n\\n*   **VIM : CHANGE : Default mode now 16 color**\\n    Default terminal mode is now ***16 colors***. Most of the users of terminal \\n    mode seem comfortabel and capable changing terminal colors. This is the \\n    preferred method of implementing Solarized in Terminal mode. If you wish to \\n    instead use the degraded 256 color palette, you may do so with the \\n    following line in your .vimrc:\\n\\n            let g:solarized_termcolors=256\\n\\n    You no longer need to specify \\\"let g:solarized_termcolors=16\\\" as it is now \\n    the default; leaving it in your .vimrc won't hurt anything, however.\\n\\n*   **VIM : IMPROVEMENT : New Toggle Background Plugin**\\n    Added new Toggle Background plugin. Will load automatically and show up as \\n    a menu item in the `Window` menu in gui vim. Automatically maps to\\n    `<F5>` if available (won't clobber that mapping if you're using it).\\n    Also available as a command `:ToggleBG`.  To manually map to\\n    something other than `<F5>`:\\n\\n    To set your own mapping in your .vimrc file, simply add the following line \\n    to support normal, insert and visual mode usage, changing the\\n    \\\"`<F5>`\\\" value to the key or key combination you wish to use:\\n\\n        call togglebg#map(\\\"<F5>\\\")\\n\\n    Note that you'll want to use a single function key or equivalent if you want \\n    the plugin to work in all modes (normal, insert, visual).\\n\\n*   **VIM : IMPROVEMENT : Special & Non-text items now more visible**\\n    Special characters such as trailing whitespace, tabs, newlines, when \\n    displayed using \\\":set list\\\" can be set to one of three levels depending on \\n    your needs.\\n\\n            let g:solarized_visibility =  \\\"normal\\\"|   \\\"high\\\" or \\\"low\\\"\\n\\n    I'll be honest: I still prefer low visibility. I like them barely there.  \\n    They show up in lines that are highlighted as by the cursor line, which \\n    works for me. If you are with me on this, put the following in your .vimrc:\\n\\n            let g:solarized_visibility =  \\\"low\\\"\\n\\n### Non Critical Changes\\n\\nThese changes should not impact your usage of the Solarized.\\n\\n*   **PALETTES : IMPROVEMENT : Colorspace tagged and untagged versions**\\n    Changed default OS X color picker palatte swatches to tagged colors (sRGB) \\n    and included alternate palette with untagged color swatches for advanced \\n    users (v1.0.0beta1 had untagged as default).\\n\\n*   **VIM : BUGFIX : Better display in Terminal.app, other emulators**\\n    Terminal.app and other common terminal emulators that report 8 color mode \\n    had display issues due to order of synt highlighting definitions and color \\n    values specified. These have been conformed and reordered in such a way \\n    that there is a more graceful degrading of the Solarized color palette on \\n    8 color terminals. Infact, the experience should be almost identical to gui \\n    other than lack of bold typeface.\\n\\n*   **VIM : BUGFIX : Better distinction between status bar and split windows**\\n    Status bar was previously too similar to the cursor line and window splits.  \\n    This has now been changed significantly to improve the clarity of what is \\n    status, cursor line and window separator.\\n\\n*   **VIM : STREAMLINED : Removed simultaneous gui/cterm definitions**\\n*   Refactored solarized.vim to eliminate simultaneous definition of gui and \\n    cterm values.\\n\\n*   **VIM : BUGFIX : Removed italicized front in terminal mode**\\n    Removed default italicized font in terminal mode in the Solarized Vim\\n    colorscheme (many terminal emulators display Vim italics as reversed type).  \\n    Italics still used in GUI mode by default and can still be turned off in \\n    both modes by setting a variable: `let g:solarized_italic=0`.\\n\\n1.0.0beta1\\n----------\\n\\nFirst public release. Included:\\n\\n* Adobe Photoshop Swatches\\n* Apple Color Picker Palette\\n* Gimp Palette\\n* iTerm2 colorschemes\\n* Mutt mail client colorschemes\\n* OS X Terminal.app colors\\n* Vim Colorscheme\\n* Xresources colors\\n\\n\\n\\n***\\n\\nMODIFIED: 2011 Apr 16\\n\"}"
      ]
     },
     "metadata": {},
     "output_type": "display_data"
    }
   ],
   "source": [
    "data Blob = Blob { blobContent :: ByteString } deriving (Eq, Show)\n",
    "\n",
    "parseBlob :: Parser Blob\n",
    "parseBlob = Blob <$> AC.takeByteString\n",
    "\n",
    "parsedBlob = parsed (parseHeader *> parseBlob) blob\n",
    "parsedBlob"
   ]
  },
  {
   "cell_type": "code",
   "execution_count": 36,
   "metadata": {
    "collapsed": false
   },
   "outputs": [
    {
     "data": {
      "text/plain": [
       "True"
      ]
     },
     "metadata": {},
     "output_type": "display_data"
    }
   ],
   "source": [
    "instance Byteable Blob where\n",
    "    toBytes (Blob content) = content\n",
    "\n",
    "(parsed parseBlob . toBytes $ parsedBlob) == parsedBlob"
   ]
  },
  {
   "cell_type": "code",
   "execution_count": 38,
   "metadata": {
    "collapsed": false
   },
   "outputs": [
    {
     "data": {
      "text/plain": [
       "31ff7f5064824d2231648119feb6dfda1a3c89f5 refs/tags/v1.0.0beta1\n",
       "a3037b428f29f0c032aeeeedb4758501bc32444d refs/tags/v1.0beta"
      ]
     },
     "metadata": {},
     "output_type": "display_data"
    }
   ],
   "source": [
    ":!git show-ref --tags"
   ]
  },
  {
   "cell_type": "code",
   "execution_count": 40,
   "metadata": {
    "collapsed": false
   },
   "outputs": [
    {
     "data": {
      "text/plain": [
       "object 90581c7bfbcd279768580eec595d0ab3c094cc02\n",
       "type commit\n",
       "tag v1.0.0beta1\n",
       "tagger Ethan Schoonover <es@ethanschoonover.com> 1300994142 -0700\n",
       "\n",
       "Initial public beta release 1.0.0beta1"
      ]
     },
     "metadata": {},
     "output_type": "display_data"
    }
   ],
   "source": [
    ":!git cat-file -p 31ff7f5064824d2231648119feb6dfda1a3c89f5"
   ]
  },
  {
   "cell_type": "code",
   "execution_count": 42,
   "metadata": {
    "collapsed": false
   },
   "outputs": [
    {
     "data": {
      "text/plain": [
       "tag 182\u0000object 90581c7bfbcd279768580eec595d0ab3c094cc02\n",
       "type commit\n",
       "tag v1.0.0beta1\n",
       "tagger Ethan Schoonover <es@ethanschoonover.com> 1300994142 -0700\n",
       "\n",
       "Initial public beta release 1.0.0beta1"
      ]
     },
     "metadata": {},
     "output_type": "display_data"
    }
   ],
   "source": [
    "tag <- decompress <$> B.readFile \".git/objects/31/ff7f5064824d2231648119feb6dfda1a3c89f5\"\n",
    "tag"
   ]
  },
  {
   "cell_type": "code",
   "execution_count": 48,
   "metadata": {
    "collapsed": false
   },
   "outputs": [
    {
     "data": {
      "text/plain": [
       "Tag {tagObject = \"90581c7bfbcd279768580eec595d0ab3c094cc02\", tagType = \"commit\", tagTag = \"v1.0.0beta1\", tagTagger = \"Ethan Schoonover <es@ethanschoonover.com> 1300994142 -0700\", tagAnnotation = \"Initial public beta release 1.0.0beta1\\n\"}"
      ]
     },
     "metadata": {},
     "output_type": "display_data"
    }
   ],
   "source": [
    "data Tag = Tag\n",
    "    { tagObject     :: Ref\n",
    "    , tagType       :: ByteString\n",
    "    , tagTag        :: ByteString\n",
    "    , tagTagger     :: ByteString\n",
    "    , tagAnnotation :: ByteString\n",
    "    } deriving (Eq, Show)\n",
    "\n",
    "parseTag :: Parser Tag\n",
    "parseTag = do\n",
    "    tObject     <- AC.string \"object\" *> AC.space *> parseHexRef                                                 <* AC.endOfLine\n",
    "    tType       <- AC.string \"type\"   *> AC.space *> AC.choice (map AC.string [\"commit\", \"tree\", \"blob\", \"tag\"]) <* AC.endOfLine\n",
    "    tTag        <- AC.string \"tag\"    *> AC.space *> AC.takeTill (AC.inClass \"\\n\")                               <* AC.endOfLine\n",
    "    tTagger     <- AC.string \"tagger\" *> AC.space *> AC.takeTill (AC.inClass \"\\n\")                               <* AC.endOfLine\n",
    "    AC.endOfLine\n",
    "    tAnnotation <- AC.takeByteString\n",
    "    return $ Tag tObject tType tTag tTagger tAnnotation\n",
    "\n",
    "parsedTag = parsed (parseHeader *> parseTag) tag\n",
    "parsedTag"
   ]
  },
  {
   "cell_type": "code",
   "execution_count": 53,
   "metadata": {
    "collapsed": false
   },
   "outputs": [
    {
     "data": {
      "text/plain": [
       "True"
      ]
     },
     "metadata": {},
     "output_type": "display_data"
    }
   ],
   "source": [
    "instance Byteable Tag where\n",
    "    toBytes (Tag tObject tType tTag tTagger tAnnotation) = mconcat\n",
    "        [ \"object \" <> tObject     <> \"\\n\"\n",
    "        , \"type \"   <> tType       <> \"\\n\"\n",
    "        , \"tag \"    <> tTag        <> \"\\n\"\n",
    "        , \"tagger \" <> tTagger     <> \"\\n\"\n",
    "        ,                             \"\\n\"\n",
    "        ,              tAnnotation\n",
    "        ]\n",
    "\n",
    "(parsed parseTag . toBytes $ parsedTag) == parsedTag"
   ]
  },
  {
   "cell_type": "code",
   "execution_count": 58,
   "metadata": {
    "collapsed": false
   },
   "outputs": [],
   "source": [
    "data GitObject\n",
    "    = GitCommit Commit\n",
    "    | GitTree   Tree\n",
    "    | GitBlob   Blob\n",
    "    | GitTag    Tag\n",
    "    deriving (Eq, Show)\n",
    "\n",
    "parseGitObject :: Parser GitObject\n",
    "parseGitObject = do\n",
    "    headerLen <- parseHeader\n",
    "    case (fst headerLen) of\n",
    "        \"commit\" -> GitCommit <$> parseCommit\n",
    "        \"tree\"   -> GitTree   <$> parseTree\n",
    "        \"blob\"   -> GitBlob   <$> parseBlob\n",
    "        \"tag\"    -> GitTag    <$> parseTag\n",
    "        _        -> error \"not a git object\"\n",
    "\n",
    "instance Byteable GitObject where\n",
    "    toBytes obj = case obj of\n",
    "        GitCommit c -> withHeader \"commit\" (toBytes c)\n",
    "        GitTree   t -> withHeader \"tree\"   (toBytes t)\n",
    "        GitBlob   b -> withHeader \"blob\"   (toBytes b)\n",
    "        GitTag    t -> withHeader \"tag\"    (toBytes t)\n",
    "\n",
    "hashObject :: GitObject -> Ref\n",
    "hashObject = hash . toBytes"
   ]
  },
  {
   "cell_type": "code",
   "execution_count": 67,
   "metadata": {
    "collapsed": false
   },
   "outputs": [
    {
     "data": {
      "text/plain": [
       "31ff7f5064824d2231648119feb6dfda1a3c89f5"
      ]
     },
     "metadata": {},
     "output_type": "display_data"
    }
   ],
   "source": [
    "hashObject . parsed parseGitObject <$> (decompress <$> B.readFile \".git/objects/31/ff7f5064824d2231648119feb6dfda1a3c89f5\")"
   ]
  },
  {
   "cell_type": "code",
   "execution_count": 72,
   "metadata": {
    "collapsed": false
   },
   "outputs": [
    {
     "data": {
      "text/plain": [
       "\".git/objects/31/ff7f5064824d2231648119feb6dfda1a3c89f5\""
      ]
     },
     "metadata": {},
     "output_type": "display_data"
    }
   ],
   "source": [
    "import System.FilePath ((</>))\n",
    "\n",
    "refPath :: FilePath -> Ref -> FilePath\n",
    "refPath gitDir ref = let\n",
    "   (dir,file) = splitAt 2 (toString ref)\n",
    "   in gitDir </> \"objects\" </> dir </> file\n",
    "\n",
    "refPath \".git\" \"31ff7f5064824d2231648119feb6dfda1a3c89f5\""
   ]
  },
  {
   "cell_type": "code",
   "execution_count": 74,
   "metadata": {
    "collapsed": false
   },
   "outputs": [
    {
     "data": {
      "text/plain": [
       "GitTag (Tag {tagObject = \"90581c7bfbcd279768580eec595d0ab3c094cc02\", tagType = \"commit\", tagTag = \"v1.0.0beta1\", tagTagger = \"Ethan Schoonover <es@ethanschoonover.com> 1300994142 -0700\", tagAnnotation = \"Initial public beta release 1.0.0beta1\\n\"})"
      ]
     },
     "metadata": {},
     "output_type": "display_data"
    }
   ],
   "source": [
    "readObject :: FilePath -> Ref -> IO GitObject\n",
    "readObject gitDir ref = do\n",
    "    let path = refPath gitDir ref\n",
    "    content <- decompress <$> B.readFile path\n",
    "    return $ parsed parseGitObject content\n",
    "\n",
    "readObject \".git\" \"31ff7f5064824d2231648119feb6dfda1a3c89f5\""
   ]
  },
  {
   "cell_type": "code",
   "execution_count": 76,
   "metadata": {
    "collapsed": false
   },
   "outputs": [],
   "source": [
    "import System.Directory (doesPathExist, createDirectoryIfMissing)\n",
    "import System.FilePath  (takeDirectory)\n",
    "import Control.Monad    (when, unless)\n",
    "\n",
    "writeObject :: FilePath -> GitObject -> IO Ref\n",
    "writeObject gitDir object = do\n",
    "    let ref  =  hashObject object\n",
    "    let path =  refPath gitDir ref\n",
    "    exists   <- doesPathExist path\n",
    "    unless exists $ do\n",
    "        let dir = takeDirectory path\n",
    "        createDirectoryIfMissing True dir\n",
    "        B.writeFile path . compress $ toBytes object\n",
    "    return ref"
   ]
  }
 ],
 "metadata": {
  "kernelspec": {
   "display_name": "Haskell",
   "language": "haskell",
   "name": "haskell"
  },
  "language_info": {
   "codemirror_mode": "ihaskell",
   "file_extension": ".hs",
   "name": "haskell",
   "version": "8.0.2"
  }
 },
 "nbformat": 4,
 "nbformat_minor": 2
}
