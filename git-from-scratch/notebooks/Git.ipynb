{
 "cells": [
  {
   "cell_type": "code",
   "execution_count": 2,
   "metadata": {},
   "outputs": [
    {
     "data": {
      "text/plain": [
       "Cloning into 'solarized'..."
      ]
     },
     "metadata": {},
     "output_type": "display_data"
    },
    {
     "data": {
      "text/plain": [
       "commit e40cd4130e2a82f9b03ada1ca378b7701b1a9110\n",
       "Author: Trevor Bramble <inbox@trevorbramble.com>\n",
       "Date:   Fri Jun 28 22:01:38 2013 -0700\n",
       "\n",
       "    add tmux by @seebi!\n",
       "\n",
       "diff --git a/tmux/README.md b/tmux/README.md\n",
       "new file mode 100644\n",
       "index 0000000..71fabef\n",
       "--- /dev/null\n",
       "+++ b/tmux/README.md\n",
       "@@ -0,0 +1,24 @@\n",
       "+# Solarize color theme tmux configuration\n",
       "+\n",
       "+A tmux solarized theme using Ethan Schoonoverâs [Solarized color scheme](http://ethanschoonover.com/solarized).\n",
       "+\n",
       "+## Repositories\n",
       "+  * This theme as a single repository: [/seebi/tmux-colors-solarized](https://github.com/seebi/tmux-colors-solarized)\n",
       "+  * The main solarized repository: [/altercation/solarized](https://github.com/altercation/solarized)\n",
       "+\n",
       "+## Installation\n",
       "+This config snippet for the terminal multiplexer tmux should be added to your `~/.tmux.conf` configuration file.\n",
       "+\n",
       "+In most cases, you have to force tmux to assume the terminal supports 256 colours.\n",
       "+For this, start tmux as `tmux -2`.\n",
       "+\n",
       "+This color scheme is tested with tmux >= 1.5. tmux 1.1 is reported as not working.\n",
       "+\n",
       "+## Screenshot\n",
       "+Here is a screenshot of a tmux session captured from a gnome-terminal using the [dz-version of the awesome Inconsolata font](http://nodnod.net/2009/feb/12/adding-straight-single-and-double-quotes-inconsola/).\n",
       "+\n",
       "+![screenshot](https://github.com/seebi/tmux-colors-solarized/raw/master/tmuxcolors.png)\n",
       "+\n",
       "+And another one showing different dircolors from the neighboring [dircolors-solarized](https://github.com/seebi/dircolors-solarized) repository.\n",
       "+\n",
       "+![screenshot](https://github.com/seebi/dircolors-solarized/raw/master/img/dircolors.256dark.png)\n",
       "diff --git a/tmux/tmuxcolors-256.conf b/tmux/tmuxcolors-256.conf\n",
       "new file mode 100644\n",
       "index 0000000..eb7ede4\n",
       "--- /dev/null\n",
       "+++ b/tmux/tmuxcolors-256.conf\n",
       "@@ -0,0 +1,31 @@\n",
       "+#### COLOUR (Solarized 256)\n",
       "+\n",
       "+# default statusbar colors\n",
       "+set-option -g status-bg colour235 #base02\n",
       "+set-option -g status-fg colour136 #yellow\n",
       "+set-option -g status-attr default\n",
       "+\n",
       "+# default window title colors\n",
       "+set-window-option -g window-status-fg colour244 #base0\n",
       "+set-window-option -g window-status-bg default\n",
       "+#set-window-option -g window-status-attr dim\n",
       "+\n",
       "+# active window title colors\n",
       "+set-window-option -g window-status-current-fg colour166 #orange\n",
       "+set-window-option -g window-status-current-bg default\n",
       "+#set-window-option -g window-status-current-attr bright\n",
       "+\n",
       "+# pane border\n",
       "+set-option -g pane-border-fg colour235 #base02\n",
       "+set-option -g pane-active-border-fg colour240 #base01\n",
       "+\n",
       "+# message text\n",
       "+set-option -g message-bg colour235 #base02\n",
       "+set-option -g message-fg colour166 #orange\n",
       "+\n",
       "+# pane number display\n",
       "+set-option -g display-panes-active-colour colour33 #blue\n",
       "+set-option -g display-panes-colour colour166 #orange\n",
       "+\n",
       "+# clock\n",
       "+set-window-option -g clock-mode-colour colour64 #green\n",
       "diff --git a/tmux/tmuxcolors-dark.conf b/tmux/tmuxcolors-dark.conf\n",
       "new file mode 100644\n",
       "index 0000000..3fa2ec5\n",
       "--- /dev/null\n",
       "+++ b/tmux/tmuxcolors-dark.conf\n",
       "@@ -0,0 +1,31 @@\n",
       "+#### COLOUR (Solarized dark)\n",
       "+\n",
       "+# default statusbar colors\n",
       "+set-option -g status-bg black #base02\n",
       "+set-option -g status-fg yellow #yellow\n",
       "+set-option -g status-attr default\n",
       "+\n",
       "+# default window title colors\n",
       "+set-window-option -g window-status-fg brightblue #base0\n",
       "+set-window-option -g window-status-bg default\n",
       "+#set-window-option -g window-status-attr dim\n",
       "+\n",
       "+# active window title colors\n",
       "+set-window-option -g window-status-current-fg brightred #orange\n",
       "+set-window-option -g window-status-current-bg default\n",
       "+#set-window-option -g window-status-current-attr bright\n",
       "+\n",
       "+# pane border\n",
       "+set-option -g pane-border-fg black #base02\n",
       "+set-option -g pane-active-border-fg brightgreen #base01\n",
       "+\n",
       "+# message text\n",
       "+set-option -g message-bg black #base02\n",
       "+set-option -g message-fg brightred #orange\n",
       "+\n",
       "+# pane number display\n",
       "+set-option -g display-panes-active-colour blue #blue\n",
       "+set-option -g display-panes-colour brightred #orange\n",
       "+\n",
       "+# clock\n",
       "+set-window-option -g clock-mode-colour green #green\n",
       "diff --git a/tmux/tmuxcolors-light.conf b/tmux/tmuxcolors-light.conf\n",
       "new file mode 100644\n",
       "index 0000000..767152a\n",
       "--- /dev/null\n",
       "+++ b/tmux/tmuxcolors-light.conf\n",
       "@@ -0,0 +1,31 @@\n",
       "+#### COLOUR (Solarized light)\n",
       "+\n",
       "+# default statusbar colors\n",
       "+set-option -g status-bg white #base2\n",
       "+set-option -g status-fg yellow #yellow\n",
       "+set-option -g status-attr default\n",
       "+\n",
       "+# default window title colors\n",
       "+set-window-option -g window-status-fg brightyellow #base00\n",
       "+set-window-option -g window-status-bg default\n",
       "+#set-window-option -g window-status-attr dim\n",
       "+\n",
       "+# active window title colors\n",
       "+set-window-option -g window-status-current-fg brightred #orange\n",
       "+set-window-option -g window-status-current-bg default\n",
       "+#set-window-option -g window-status-current-attr bright\n",
       "+\n",
       "+# pane border\n",
       "+set-option -g pane-border-fg white #base2\n",
       "+set-option -g pane-active-border-fg brightcyan #base1\n",
       "+\n",
       "+# message text\n",
       "+set-option -g message-bg white #base2\n",
       "+set-option -g message-fg brightred #orange\n",
       "+\n",
       "+# pane number display\n",
       "+set-option -g display-panes-active-colour blue #blue\n",
       "+set-option -g display-panes-colour brightred #orange\n",
       "+\n",
       "+# clock\n",
       "+set-window-option -g clock-mode-colour green #green\n",
       "diff --git a/tmux/tmuxcolors.png b/tmux/tmuxcolors.png\n",
       "new file mode 100644\n",
       "index 0000000..190df17\n",
       "Binary files /dev/null and b/tmux/tmuxcolors.png differ"
      ]
     },
     "metadata": {},
     "output_type": "display_data"
    }
   ],
   "source": [
    "{-# LANGUAGE OverloadedStrings #-}\n",
    "\n",
    ":!git clone https://github.com/altercation/solarized\n",
    ":!cd solarized\n",
    ":!git show"
   ]
  },
  {
   "cell_type": "code",
   "execution_count": 6,
   "metadata": {},
   "outputs": [
    {
     "data": {
      "text/plain": [
       "tree ecd0e58d6832566540a30dfd4878db518d5451d0\n",
       "parent ab3c5646b41de1b6d95782371289db585ba8aa85\n",
       "author Trevor Bramble <inbox@trevorbramble.com> 1372482098 -0700\n",
       "committer Trevor Bramble <inbox@trevorbramble.com> 1372482214 -0700\n",
       "\n",
       "add tmux by @seebi!"
      ]
     },
     "metadata": {},
     "output_type": "display_data"
    },
    {
     "data": {
      "text/plain": [
       "ref: refs/heads/master"
      ]
     },
     "metadata": {},
     "output_type": "display_data"
    },
    {
     "data": {
      "text/plain": [
       "e40cd4130e2a82f9b03ada1ca378b7701b1a9110"
      ]
     },
     "metadata": {},
     "output_type": "display_data"
    },
    {
     "data": {
      "text/plain": [
       "tree ecd0e58d6832566540a30dfd4878db518d5451d0\n",
       "parent ab3c5646b41de1b6d95782371289db585ba8aa85\n",
       "author Trevor Bramble <inbox@trevorbramble.com> 1372482098 -0700\n",
       "committer Trevor Bramble <inbox@trevorbramble.com> 1372482214 -0700\n",
       "\n",
       "add tmux by @seebi!"
      ]
     },
     "metadata": {},
     "output_type": "display_data"
    }
   ],
   "source": [
    ":!git cat-file -p HEAD\n",
    ":!cat .git/HEAD\n",
    ":!cat .git/refs/heads/master\n",
    ":!git cat-file -p e40cd4130e2a82f9b03ada1ca378b7701b1a9110"
   ]
  },
  {
   "cell_type": "code",
   "execution_count": 11,
   "metadata": {},
   "outputs": [
    {
     "data": {
      "text/plain": [
       ".git/objects/e4/0cd4130e2a82f9b03ada1ca378b7701b1a9110"
      ]
     },
     "metadata": {},
     "output_type": "display_data"
    },
    {
     "data": {
      "text/plain": [
       "x\u0001mj\u00031\f",
       "DûÛ§P\u000eÐâ/ÙZ(%ô\f",
       "¹´RéB\r",
       "®SÛ×^ ¿\u0006\u001e",
       "ÃY÷Ö¶\u00011ÓÓèf`«zCÒB)b)='¯\u001f©\n",
       "\u0006RÌ\u0018Ô»\u000b",
       "w;\u000f`I+\\$\u0007µ E\u0017¬\u0014S\r",
       "Ù'\u0014&fBÇ×ñ¹w8uûñÞ¹ÉÁëvývÓÊ\u0003¾¬{{ê<\u0015ýBðì«÷nÒùtØÿ\u001d",
       "1ä?cU\u0018íz\u0003¹ÃñÛL¶û\u0005È\u0005O"
      ]
     },
     "metadata": {},
     "output_type": "display_data"
    },
    {
     "data": {
      "text/plain": [
       "commit 248\u0000tree ecd0e58d6832566540a30dfd4878db518d5451d0\n",
       "parent ab3c5646b41de1b6d95782371289db585ba8aa85\n",
       "author Trevor Bramble <inbox@trevorbramble.com> 1372482098 -0700\n",
       "committer Trevor Bramble <inbox@trevorbramble.com> 1372482214 -0700\n",
       "\n",
       "add tmux by @seebi!"
      ]
     },
     "metadata": {},
     "output_type": "display_data"
    }
   ],
   "source": [
    ":!ls .git/objects/e4/0cd4130e2a82f9b03ada1ca378b7701b1a9110\n",
    ":!cat .git/objects/e4/0cd4130e2a82f9b03ada1ca378b7701b1a9110\n",
    ":!zlib-flate -uncompress < .git/objects/e4/0cd4130e2a82f9b03ada1ca378b7701b1a9110"
   ]
  },
  {
   "cell_type": "code",
   "execution_count": 14,
   "metadata": {},
   "outputs": [
    {
     "data": {
      "text/plain": [
       "(\"commit\",248)"
      ]
     },
     "metadata": {},
     "output_type": "display_data"
    }
   ],
   "source": [
    "import Data.Attoparsec.ByteString.Char8\n",
    "\n",
    "parsed parser = either error id . parseOnly parser\n",
    "\n",
    "header = do\n",
    "    objectType <- takeTill isSpace\n",
    "    space\n",
    "    len <- decimal\n",
    "    char '\\NUL'\n",
    "    return (objectType, len)\n",
    "\n",
    "parsed header \"commit 248\\NUL\""
   ]
  },
  {
   "cell_type": "code",
   "execution_count": 20,
   "metadata": {},
   "outputs": [],
   "source": [
    "import qualified Data.ByteString as B\n",
    "\n",
    "type Ref = B.ByteString\n",
    "\n",
    "parseRef :: Parser Ref\n",
    "parseRef = Data.Attoparsec.ByteString.Char8.take 40\n",
    "\n",
    "type PersonTime = B.ByteString\n",
    "\n",
    "data Commit = Commit\n",
    "    { commitTree      :: Ref\n",
    "    , commitParents   :: [Ref]\n",
    "    , commitAuthor    :: PersonTime\n",
    "    , commitCommitter :: PersonTime\n",
    "    , commitMessage   :: B.ByteString\n",
    "    } deriving (Eq, Show)\n",
    "\n",
    "parseCommit = do\n",
    "    cTree      <-        string \"tree\"      *> space *> parseRef                <* endOfLine\n",
    "    cParents   <- many' (string \"parent\"    *> space *> parseRef                <* endOfLine)\n",
    "    cAuthor    <-        string \"author\"    *> space *> takeTill (inClass \"\\n\") <* endOfLine\n",
    "    cCommitter <-        string \"committer\" *> space *> takeTill (inClass \"\\n\") <* endOfLine\n",
    "    endOfLine\n",
    "    cMessage   <- takeByteString\n",
    "    return $ Commit cTree cParents cAuthor cCommitter cMessage\n",
    "\n",
    "parsed"
   ]
  }
 ],
 "metadata": {
  "kernelspec": {
   "display_name": "Haskell",
   "language": "haskell",
   "name": "haskell"
  },
  "language_info": {
   "codemirror_mode": "ihaskell",
   "file_extension": ".hs",
   "name": "haskell",
   "version": "8.0.2"
  }
 },
 "nbformat": 4,
 "nbformat_minor": 2
}
