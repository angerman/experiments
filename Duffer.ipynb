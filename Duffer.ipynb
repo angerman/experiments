{
 "cells": [
  {
   "cell_type": "code",
   "execution_count": 3,
   "metadata": {
    "collapsed": true
   },
   "outputs": [],
   "source": [
    "import zlib\n",
    "import hashlib\n",
    "import os\n",
    "from binascii import hexlify, unhexlify"
   ]
  },
  {
   "cell_type": "code",
   "execution_count": 41,
   "metadata": {
    "collapsed": false
   },
   "outputs": [],
   "source": [
    "def sha1_to_path(sha1, directory):\n",
    "    prefix = sha1[:2]\n",
    "    suffix = sha1[2:]\n",
    "    path = '/'.join([directory, 'objects', prefix, suffix])\n",
    "    return path\n",
    "def sha1_to_directory(sha1, directory):\n",
    "    prefix = sha1[:2]\n",
    "    path = '/'.join([directory, 'objects', prefix])\n",
    "    return path\n",
    "def disambiguate_sha1(sha1, directory):\n",
    "    prefix = sha1[:2]\n",
    "    suffix = sha1[2:]\n",
    "    matching_files = matching_files = [file for file in os.listdir(sha1_to_directory(sha1, directory)) if file.startswith(suffix)]\n",
    "    if len(matching_files) == 0:\n",
    "        raise Exception('No object exists with that SHA1.')\n",
    "    elif len(matching_files) > 1:\n",
    "        raise Exception('Ambiguous SHA1 provided.')\n",
    "    else:\n",
    "        return prefix + matching_files[0]"
   ]
  },
  {
   "cell_type": "code",
   "execution_count": 38,
   "metadata": {
    "collapsed": false
   },
   "outputs": [
    {
     "data": {
      "text/plain": [
       "['tree 37', '100644 README.md', 'ad0ec6bc18160c7aa60597510e9068a9db8e02b8']"
      ]
     },
     "execution_count": 38,
     "metadata": {},
     "output_type": "execute_result"
    }
   ],
   "source": [
    "def pretty_print(sha1, directory='.git'):\n",
    "    if len(sha1) < 40:\n",
    "        sha1 = disambiguate_sha1(sha1, directory)\n",
    "    path = sha1_to_path(sha1, directory)\n",
    "    with open(path, mode='rb') as compressed:\n",
    "        decompressed = zlib.decompress(compressed.read())\n",
    "    entries = decompressed.split(b'\\x00')\n",
    "    header, *content = entries\n",
    "    object_type = header.split(b' ')[0]\n",
    "    if object_type == b'blob':\n",
    "        return [entry.decode() for entry in [header, *content]]\n",
    "    elif object_type == b'tree':\n",
    "        objects = []\n",
    "        for i,obj in enumerate(content):\n",
    "            if i==len(content)-1:\n",
    "                objects.append(hexlify(obj))\n",
    "            elif i==0:\n",
    "                objects.append(obj)\n",
    "            else:\n",
    "                hash, name = obj[:20], obj[20:]\n",
    "                print(hash)\n",
    "                print(name)\n",
    "                objects.append(hexlify(hash))\n",
    "                objects.append(name)\n",
    "        return [entry.decode() for entry in [header, *objects]]\n",
    "pretty_print('8accee2c256b491ea0d9c138d0bbc94d064ba590')"
   ]
  },
  {
   "cell_type": "code",
   "execution_count": 19,
   "metadata": {
    "collapsed": false
   },
   "outputs": [
    {
     "name": "stdout",
     "output_type": "stream",
     "text": [
      "[b'tree 77', b'100644 Duffer.ipynb', b'\\xde\\xf1\\xc9C\\xe2\\x07\\xdf\\x97\\xdb\\x1b\\xe4\\xb5\\x9d\\x02K\\x92\\xda\\xaf\\xd0\\xe2100644 README.md', b'\\xad\\x0e\\xc6\\xbc\\x18\\x16\\x0cz\\xa6\\x05\\x97Q\\x0e\\x90h\\xa9\\xdb\\x8e\\x02\\xb8']\n"
     ]
    },
    {
     "data": {
      "text/plain": [
       "[b'tree 77',\n",
       " b'100644 Duffer.ipynb',\n",
       " b'def1c943e207df97db1be4b59d024b92daafd0e231303036343420524541444d452e6d64',\n",
       " b'',\n",
       " b'ad0ec6bc18160c7aa60597510e9068a9db8e02b8']"
      ]
     },
     "execution_count": 19,
     "metadata": {},
     "output_type": "execute_result"
    }
   ],
   "source": []
  },
  {
   "cell_type": "code",
   "execution_count": 7,
   "metadata": {
    "collapsed": true
   },
   "outputs": [],
   "source": [
    "def store_blob(content, directory='.git'):\n",
    "    header = 'blob ' + str(len(content)) + '\\x00'\n",
    "    store = header + content\n",
    "    hash = hashlib.sha1()\n",
    "    hash.update(store.encode('utf8'))\n",
    "    sha1 = hash.hexdigest()\n",
    "    path = sha1_to_path(sha1, directory)\n",
    "    if os.path.isfile(path):\n",
    "        # Given how unlikely it is that there has been a hash collision,\n",
    "        # assume the user is writing the same blob again.\n",
    "        pass\n",
    "    else:\n",
    "        os.makedirs(sha1_to_directory(sha1, directory), exist_ok=True)\n",
    "        with open(path, mode='wb') as file:\n",
    "            file.write(zlib.compress(store.encode()))\n",
    "    return sha1"
   ]
  },
  {
   "cell_type": "code",
   "execution_count": 34,
   "metadata": {
    "collapsed": false
   },
   "outputs": [
    {
     "data": {
      "text/plain": [
       "'95d09f2b10159347eece71399a7e2e907ea3df4f'"
      ]
     },
     "execution_count": 34,
     "metadata": {},
     "output_type": "execute_result"
    }
   ],
   "source": [
    "store_blob('hello world')"
   ]
  },
  {
   "cell_type": "code",
   "execution_count": 39,
   "metadata": {
    "collapsed": false
   },
   "outputs": [
    {
     "name": "stdout",
     "output_type": "stream",
     "text": [
      "d09f2b10159347eece71399a7e2e907ea3df4f\n"
     ]
    },
    {
     "data": {
      "text/plain": [
       "['blob 11', 'hello world']"
      ]
     },
     "execution_count": 39,
     "metadata": {},
     "output_type": "execute_result"
    }
   ],
   "source": [
    "pretty_print('95')"
   ]
  }
 ],
 "metadata": {
  "kernelspec": {
   "display_name": "Python 3",
   "language": "python",
   "name": "python3"
  },
  "language_info": {
   "codemirror_mode": {
    "name": "ipython",
    "version": 3
   },
   "file_extension": ".py",
   "mimetype": "text/x-python",
   "name": "python",
   "nbconvert_exporter": "python",
   "pygments_lexer": "ipython3",
   "version": "3.5.0"
  }
 },
 "nbformat": 4,
 "nbformat_minor": 0
}
