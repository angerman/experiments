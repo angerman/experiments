{
 "cells": [
  {
   "cell_type": "code",
   "execution_count": null,
   "metadata": {
    "collapsed": true
   },
   "outputs": [],
   "source": [
    "import zlib\n",
    "import hashlib\n",
    "import os\n",
    "from binascii import hexlify, unhexlify"
   ]
  },
  {
   "cell_type": "code",
   "execution_count": null,
   "metadata": {
    "collapsed": false
   },
   "outputs": [],
   "source": [
    "def sha1_to_path(sha1, directory):\n",
    "    prefix = sha1[:2]\n",
    "    suffix = sha1[2:]\n",
    "    path = '/'.join([directory, 'objects', prefix, suffix])\n",
    "    return path\n",
    "def sha1_to_directory(sha1, directory):\n",
    "    prefix = sha1[:2]\n",
    "    path = '/'.join([directory, 'objects', prefix])\n",
    "    return path\n",
    "def disambiguate_sha1(sha1, directory):\n",
    "    prefix = sha1[:2]\n",
    "    suffix = sha1[2:]\n",
    "    matching_files = matching_files = [file for file in os.listdir(sha1_to_directory(sha1, directory)) if file.startswith(suffix)]\n",
    "    if len(matching_files) == 0:\n",
    "        raise Exception('No object exists with that SHA1.')\n",
    "    elif len(matching_files) > 1:\n",
    "        raise Exception('Ambiguous SHA1 provided.')\n",
    "    else:\n",
    "        return prefix + matching_files[0]"
   ]
  },
  {
   "cell_type": "code",
   "execution_count": null,
   "metadata": {
    "collapsed": false
   },
   "outputs": [],
   "source": [
    "def pretty_print(sha1, directory='.git'):\n",
    "    if len(sha1) < 40:\n",
    "        sha1 = disambiguate_sha1(sha1, directory)\n",
    "    path = sha1_to_path(sha1, directory)\n",
    "    with open(path, mode='rb') as compressed:\n",
    "        decompressed = zlib.decompress(compressed.read())\n",
    "    entries = decompressed.split(b'\\x00')\n",
    "    header, *content = entries\n",
    "    object_type = header.split(b' ')[0]\n",
    "    if object_type == b'blob':\n",
    "        return [entry.decode() for entry in [header, *content]]\n",
    "    elif object_type == b'tree':\n",
    "        objects = []\n",
    "        for i,obj in enumerate(content):\n",
    "            if i==len(content)-1:\n",
    "                objects.append(hexlify(obj))\n",
    "            elif i==0:\n",
    "                objects.append(obj)\n",
    "            else:\n",
    "                hash, name = obj[:20], obj[20:]\n",
    "                objects.append(hexlify(hash))\n",
    "                objects.append(name)\n",
    "        return [entry.decode() for entry in [header, *objects]]\n",
    "pretty_print('8accee2c256b491ea0d9c138d0bbc94d064ba590')"
   ]
  },
  {
   "cell_type": "code",
   "execution_count": null,
   "metadata": {
    "collapsed": false
   },
   "outputs": [],
   "source": [
    "tree_object = pretty_print('8accee2c256b491ea0d9c138d0bbc94d064ba590')[1:]\n",
    "tree_object[0] = tree_object[0].encode()\n",
    "tree_object[1] = unhexlify(tree_object[1])\n",
    "len(b'\\x00'.join(tree_object))"
   ]
  },
  {
   "cell_type": "code",
   "execution_count": null,
   "metadata": {
    "collapsed": true
   },
   "outputs": [],
   "source": [
    "def store_blob(content, directory='.git'):\n",
    "    header = 'blob ' + str(len(content)) + '\\x00'\n",
    "    store = header + content\n",
    "    hash = hashlib.sha1()\n",
    "    hash.update(store.encode('utf8'))\n",
    "    sha1 = hash.hexdigest()\n",
    "    path = sha1_to_path(sha1, directory)\n",
    "    if os.path.isfile(path):\n",
    "        # Given how unlikely it is that there has been a hash collision,\n",
    "        # assume the user is writing the same blob again.\n",
    "        pass\n",
    "    else:\n",
    "        os.makedirs(sha1_to_directory(sha1, directory), exist_ok=True)\n",
    "        with open(path, mode='wb') as file:\n",
    "            file.write(zlib.compress(store.encode()))\n",
    "    return sha1"
   ]
  },
  {
   "cell_type": "code",
   "execution_count": null,
   "metadata": {
    "collapsed": false
   },
   "outputs": [],
   "source": [
    "store_blob('hello world')"
   ]
  },
  {
   "cell_type": "code",
   "execution_count": null,
   "metadata": {
    "collapsed": false
   },
   "outputs": [],
   "source": [
    "pretty_print('95')"
   ]
  },
  {
   "cell_type": "code",
   "execution_count": null,
   "metadata": {
    "collapsed": false
   },
   "outputs": [],
   "source": [
    "pretty_print('770c7bf919eed5444f4fae8df324536d77f2bdd4')"
   ]
  },
  {
   "cell_type": "code",
   "execution_count": null,
   "metadata": {
    "collapsed": true
   },
   "outputs": [],
   "source": [
    "class GitObject:\n",
    "    \n",
    "    def __init__(self, content):\n",
    "        self.content = content\n",
    "\n",
    "    @property\n",
    "    def sha1(self):\n",
    "        hash = hashlib.sha1()\n",
    "        hash.update(self.store)\n",
    "        return hash.hexdigest()\n",
    "\n",
    "class NamedObject:\n",
    "    \n",
    "    def __init__(self, content, name):\n",
    "        self.content = content\n",
    "        self.name = name\n",
    "    \n",
    "    @property\n",
    "    def entry(self):\n",
    "        mode_bytestring = '{:o}'.format(self.mode).zfill(6).encode()\n",
    "        return mode_bytestring + b' ' + self.name.encode() + b'\\x00' + unhexlify(self.sha1)"
   ]
  },
  {
   "cell_type": "code",
   "execution_count": null,
   "metadata": {
    "collapsed": true
   },
   "outputs": [],
   "source": [
    "class Blob(GitObject):\n",
    "    \n",
    "    @property\n",
    "    def store(self):\n",
    "        header = 'blob ' + str(len(self.content)) + '\\x00'\n",
    "        store = header + self.content\n",
    "        return store.encode()\n",
    "    \n",
    "    def __repr__(self):\n",
    "        return 'Blob(' + repr(self.content) + ')'\n",
    "\n",
    "class NamedBlob(NamedObject, Blob):\n",
    "    mode = 0o100644"
   ]
  },
  {
   "cell_type": "code",
   "execution_count": null,
   "metadata": {
    "collapsed": false
   },
   "outputs": [],
   "source": [
    "class Tree(GitObject):\n",
    "    @property\n",
    "    def store(self):\n",
    "        entries = []\n",
    "        for obj in self.content:\n",
    "            entries.append(obj.entry)\n",
    "        content = b''.join(entries)\n",
    "        header = 'tree ' + str(len(content)) + '\\x00'\n",
    "        store = header.encode() + content\n",
    "        return store\n",
    "\n",
    "class NamedTree(NamedObject, Tree):\n",
    "    mode = 0o040000"
   ]
  },
  {
   "cell_type": "code",
   "execution_count": null,
   "metadata": {
    "collapsed": false
   },
   "outputs": [],
   "source": [
    "def store(obj, directory='.git'):\n",
    "    sha1 = obj.sha1\n",
    "    path = sha1_to_path(sha1, directory)\n",
    "    if os.path.isfile(path):\n",
    "        # Given how unlikely it is that there has been a hash collision,\n",
    "        # assume the user is writing the same blob again.\n",
    "        pass\n",
    "    else:\n",
    "        os.makedirs(sha1_to_directory(sha1, directory), exist_ok=True)\n",
    "        with open(path, mode='wb') as file:\n",
    "            file.write(zlib.compress(obj.store))\n",
    "    return sha1"
   ]
  },
  {
   "cell_type": "code",
   "execution_count": null,
   "metadata": {
    "collapsed": false
   },
   "outputs": [],
   "source": [
    "store(Blob('hello world'))"
   ]
  },
  {
   "cell_type": "code",
   "execution_count": null,
   "metadata": {
    "collapsed": false
   },
   "outputs": [],
   "source": [
    "README = NamedBlob(open('README.md').read(), 'README.md')\n",
    "Duffer_ipynb = NamedBlob(pretty_print('997db51291f7490e756f7b3805d791a615e5d04f')[1], 'Duffer.ipynb')\n",
    "Duffer_ipynb.sha1\n",
    "Tree([Duffer_ipynb, README]).sha1"
   ]
  }
 ],
 "metadata": {
  "kernelspec": {
   "display_name": "Python 3",
   "language": "python",
   "name": "python3"
  },
  "language_info": {
   "codemirror_mode": {
    "name": "ipython",
    "version": 3
   },
   "file_extension": ".py",
   "mimetype": "text/x-python",
   "name": "python",
   "nbconvert_exporter": "python",
   "pygments_lexer": "ipython3",
   "version": "3.5.0"
  }
 },
 "nbformat": 4,
 "nbformat_minor": 0
}
