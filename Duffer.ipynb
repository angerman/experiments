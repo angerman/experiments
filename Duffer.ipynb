{
 "cells": [
  {
   "cell_type": "code",
   "execution_count": 3,
   "metadata": {
    "collapsed": true
   },
   "outputs": [],
   "source": [
    "import zlib\n",
    "import hashlib\n",
    "import os\n",
    "from binascii import hexlify, unhexlify"
   ]
  },
  {
   "cell_type": "code",
   "execution_count": 4,
   "metadata": {
    "collapsed": true
   },
   "outputs": [],
   "source": [
    "def sha1_to_path(sha1, directory='.git'):\n",
    "    prefix = sha1[:2]\n",
    "    suffix = sha1[2:]\n",
    "    path = '/'.join([directory, 'objects', prefix, suffix])\n",
    "    return path\n",
    "def sha1_to_directory(sha1, directory='.git'):\n",
    "    prefix = sha1[:2]\n",
    "    path = '/'.join([directory, 'objects', prefix])\n",
    "    return path"
   ]
  },
  {
   "cell_type": "code",
   "execution_count": 5,
   "metadata": {
    "collapsed": true
   },
   "outputs": [],
   "source": [
    "def pretty_print(sha1, directory='.git'):\n",
    "    path = sha1_to_path(sha1, directory)\n",
    "    with open(path, mode='rb') as compressed:\n",
    "        decompressed = zlib.decompress(compressed.read())\n",
    "    print(decompressed)\n",
    "    entries = decompressed.split(b'\\x00')\n",
    "    object_type = entries[0]\n",
    "    objects = []\n",
    "    for i,obj in enumerate(entries[1:]):\n",
    "        objects.append(hexlify(obj) if i%2!=0 else obj)\n",
    "    return [object_type, *objects]"
   ]
  },
  {
   "cell_type": "code",
   "execution_count": 6,
   "metadata": {
    "collapsed": false
   },
   "outputs": [
    {
     "name": "stdout",
     "output_type": "stream",
     "text": [
      "b'tree 37\\x00100644 README.md\\x00\\xad\\x0e\\xc6\\xbc\\x18\\x16\\x0cz\\xa6\\x05\\x97Q\\x0e\\x90h\\xa9\\xdb\\x8e\\x02\\xb8'\n"
     ]
    },
    {
     "data": {
      "text/plain": [
       "[b'tree 37', b'100644 README.md', b'ad0ec6bc18160c7aa60597510e9068a9db8e02b8']"
      ]
     },
     "execution_count": 6,
     "metadata": {},
     "output_type": "execute_result"
    }
   ],
   "source": [
    "pretty_print('8accee2c256b491ea0d9c138d0bbc94d064ba590')"
   ]
  },
  {
   "cell_type": "code",
   "execution_count": 7,
   "metadata": {
    "collapsed": true
   },
   "outputs": [],
   "source": [
    "def store_blob(content, directory='.git'):\n",
    "    header = 'blob ' + str(len(content)) + '\\x00'\n",
    "    store = header + content\n",
    "    hash = hashlib.sha1()\n",
    "    hash.update(store.encode('utf8'))\n",
    "    sha1 = hash.hexdigest()\n",
    "    path = sha1_to_path(sha1, directory)\n",
    "    if os.path.isfile(path):\n",
    "        # Given how unlikely it is that there has been a hash collision,\n",
    "        # assume the user is writing the same blob again.\n",
    "        pass\n",
    "    else:\n",
    "        os.makedirs(sha1_to_directory(sha1, directory), exist_ok=True)\n",
    "        with open(path, mode='wb') as file:\n",
    "            file.write(zlib.compress(store.encode()))\n",
    "    return sha1"
   ]
  },
  {
   "cell_type": "code",
   "execution_count": 8,
   "metadata": {
    "collapsed": false
   },
   "outputs": [
    {
     "data": {
      "text/plain": [
       "'95d09f2b10159347eece71399a7e2e907ea3df4f'"
      ]
     },
     "execution_count": 8,
     "metadata": {},
     "output_type": "execute_result"
    }
   ],
   "source": [
    "store_blob('hello world')"
   ]
  },
  {
   "cell_type": "code",
   "execution_count": 9,
   "metadata": {
    "collapsed": false
   },
   "outputs": [
    {
     "data": {
      "text/plain": [
       "'95d09f2b10159347eece71399a7e2e907ea3df4f'"
      ]
     },
     "execution_count": 9,
     "metadata": {},
     "output_type": "execute_result"
    }
   ],
   "source": [
    "store_blob('hello world')"
   ]
  }
 ],
 "metadata": {
  "kernelspec": {
   "display_name": "Python 3",
   "language": "python",
   "name": "python3"
  },
  "language_info": {
   "codemirror_mode": {
    "name": "ipython",
    "version": 3
   },
   "file_extension": ".py",
   "mimetype": "text/x-python",
   "name": "python",
   "nbconvert_exporter": "python",
   "pygments_lexer": "ipython3",
   "version": "3.5.0"
  }
 },
 "nbformat": 4,
 "nbformat_minor": 0
}
