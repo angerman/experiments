{
 "cells": [
  {
   "cell_type": "code",
   "execution_count": 1,
   "metadata": {
    "collapsed": true
   },
   "outputs": [],
   "source": [
    "import zlib\n",
    "import hashlib\n",
    "import os\n",
    "from time import strftime\n",
    "from re import compile"
   ]
   ]
  },
  {
   "cell_type": "code",
   "execution_count": 2,
   "metadata": {
    "collapsed": false
   },
   "outputs": [],
   "source": [
    "def sha1_to_path(sha1, directory):\n",
    "    prefix = sha1[:2]\n",
    "    suffix = sha1[2:]\n",
    "    path = '/'.join([directory, 'objects', prefix, suffix])\n",
    "    return path\n",
    "def sha1_to_directory(sha1, directory):\n",
    "    prefix = sha1[:2]\n",
    "    path = '/'.join([directory, 'objects', prefix])\n",
    "    return path\n",
    "def disambiguate_sha1(sha1, directory):\n",
    "    prefix = sha1[:2]\n",
    "    suffix = sha1[2:]\n",
    "    matching_files = matching_files = [file for file in os.listdir(sha1_to_directory(sha1, directory)) if file.startswith(suffix)]\n",
    "    if len(matching_files) == 0:\n",
    "        raise Exception('No object exists with that SHA1.')\n",
    "    elif len(matching_files) > 1:\n",
    "        raise Exception('Ambiguous SHA1 provided.')\n",
    "    else:\n",
    "        return prefix + matching_files[0]\n",
    "\n",
    "def sha1_to_content(sha1, directory='.git'):\n",
    "    path = sha1_to_path(sha1, directory)\n",
    "    with open(path, mode='rb') as compressed:\n",
    "        decompressed = zlib.decompress(compressed.read())\n",
    "    header_end = decompressed.find(b'\\x00')\n",
    "    header = decompressed[:header_end].decode()\n",
    "    object_type = header.split(' ')[0]\n",
    "    content = decompressed[header_end+1:]\n",
    "    if object_type == 'tree':\n",
    "        tree_entry = compile(br'(\\d+) (.*?)\\x00([\\x00-\\xff]{20})')\n",
    "        entries = [\n",
    "            (int(mode, 8), name.decode(), sha1.hex())\n",
    "            for (mode, name, sha1) in\n",
    "            tree_entry.findall(content)\n",
    "        ]\n",
    "        return [header, *entries]\n",
    "    elif object_type in ('blob', 'commit'):\n",
    "        return [header, content.decode()]\n",
    "\n",
    "def lazy_tree_entry(mode, name, sha1, directory):\n",
    "    header, *content = sha1_to_content(sha1, directory)\n",
    "    object_type = header.split(' ')[0]\n",
    "    if object_type == 'blob':\n",
    "        return LazyNamedBlob(sha1, name, mode, directory)\n",
    "    elif object_type == 'tree':\n",
    "        return LazyNamedTree(sha1, name, mode, directory)"
   ]
  },
  {
   "cell_type": "code",
   "execution_count": 4,
   "metadata": {
    "collapsed": false
   },
   "outputs": [],
   "source": [
    "class GitObject:\n",
    "    \n",
    "    def __init__(self, content):\n",
    "        self.content = content\n",
    "\n",
    "    @property\n",
    "    def sha1(self):\n",
    "        hash = hashlib.sha1()\n",
    "        hash.update(self.store)\n",
    "        return hash.hexdigest()\n",
    "    \n",
    "    def __repr__(self):\n",
    "        return self.__class__.__name__ + '(' + repr(self.content) + ')'\n",
    "\n",
    "class NamedObject:\n",
    "    \n",
    "    def __init__(self, content, name):\n",
    "        self.content = content\n",
    "        self.name = name\n",
    "\n",
    "    @property\n",
    "    def entry(self):\n",
    "        mode_bytestring = '{:o}'.format(self.mode).encode()\n",
    "        return mode_bytestring + b' ' + self.name.encode() + b'\\x00' + bytes.fromhex(self.sha1)\n",
    "    \n",
    "    def __repr__(self):\n",
    "        return self.__class__.__name__ + '(' + repr(self.content) + ', ' + repr(self.name)  + ')'\n",
    "\n",
    "class LazyObject:\n",
    "    \n",
    "    def __init__(self, sha1, directory='.git'):\n",
    "        self.sha1 = sha1\n",
    "        self.directory = directory\n",
    "    \n",
    "    def __repr__(self):\n",
    "        return self.__class__.__name__ + '(' + repr(self.sha1) + ')'\n",
    "\n",
    "class LazyNamedObject:\n",
    "    \n",
    "    def __init__(self, sha1, name, mode=None, directory='.git'):\n",
    "        self.name = name\n",
    "        self.sha1 = sha1\n",
    "        if mode is not None:\n",
    "            self.mode = mode\n",
    "        self.directory = directory\n",
    "    \n",
    "    def __repr__(self):\n",
    "        return self.__class__.__name__ + '(' + repr(self.sha1) + ', ' + repr(self.name) + ')'"
   ]
  },
  {
   "cell_type": "code",
   "execution_count": 36,
   "metadata": {
    "collapsed": true
   },
   "outputs": [],
   "source": [
    "class Blob(GitObject):\n",
    "    \n",
    "    @property\n",
    "    def store(self):\n",
    "        header = 'blob ' + str(len(self.content)) + '\\x00'\n",
    "        store = header + self.content\n",
    "        return store.encode()\n",
    "\n",
    "class NamedBlob(NamedObject, Blob):\n",
    "    \n",
    "    mode = 0o100644\n",
    "\n",
    "class LazyNamedBlob(LazyNamedObject):\n",
    "    \n",
    "    mode = 0o100644\n",
    "    \n",
    "    @property\n",
    "    def content(self):\n",
    "        header, content = sha1_to_content(self.sha1, self.directory)\n",
    "        return content"
   ]
  },
  {
   "cell_type": "code",
   "execution_count": 5,
   "metadata": {
    "collapsed": true
   },
   "outputs": [],
   "source": [
    "class Tree(GitObject):\n",
    "    \n",
    "    @property\n",
    "    def store(self):\n",
    "        entries = (obj.entry for obj in sorted(self.content, key=lambda entry: entry.name))\n",
    "        content = b''.join(entries)\n",
    "        header = 'tree ' + str(len(content)) + '\\x00'\n",
    "        store = header.encode() + content\n",
    "        return store\n",
    "\n",
    "class NamedTree(NamedObject, Tree):\n",
    "    \n",
    "    mode = 0o040000\n",
    "\n",
    "class LazyTree(LazyObject):\n",
    "    \n",
    "    @property\n",
    "    def content(self):\n",
    "        header, *content = sha1_to_content(self.sha1, self.directory)\n",
    "        return (lazy_tree_entry(*entry, self.directory) for entry in content)\n",
    "    \n",
    "class LazyNamedTree(LazyNamedObject, LazyTree):\n",
    "    \n",
    "    mode = 0o040000"
   ]
  },
  {
   "cell_type": "code",
   "execution_count": 38,
   "metadata": {
    "collapsed": false
   },
   "outputs": [],
   "source": [
    "def store(obj, directory='.git'):\n",
    "    sha1 = obj.sha1\n",
    "    path = sha1_to_path(sha1, directory)\n",
    "    if os.path.isfile(path):\n",
    "        # Given how unlikely it is that there has been a hash collision,\n",
    "        # assume the user is writing the same blob again.\n",
    "        pass\n",
    "    else:\n",
    "        os.makedirs(sha1_to_directory(sha1, directory), exist_ok=True)\n",
    "        with open(path, mode='wb') as file:\n",
    "            file.write(zlib.compress(obj.store))\n",
    "    return sha1"
   ]
  },
  {
   "cell_type": "code",
   "execution_count": 6,
   "metadata": {
    "collapsed": false
   },
   "outputs": [
    {
     "name": "stdout",
     "output_type": "stream",
     "text": [
      "['tree 37', (33188, 'README.md', 'ad0ec6bc18160c7aa60597510e9068a9db8e02b8')]\n"
     ]
    },
    {
     "data": {
      "text/plain": [
       "37"
      ]
     },
     "execution_count": 6,
     "metadata": {},
     "output_type": "execute_result"
    }
   ],
   "source": [
    "print(sha1_to_content('8accee2c256b491ea0d9c138d0bbc94d064ba590'))\n",
    "tree_object = list(sha1_to_content('8accee2c256b491ea0d9c138d0bbc94d064ba590')[1])\n",
    "tree_object[0] = '{:o}'.format(tree_object[0]).encode() + b' ' + tree_object[1].encode()\n",
    "tree_object[1] = bytes.fromhex(tree_object[2])\n",
    "del tree_object[2]\n",
    "len(b'\\x00'.join(tree_object))"
   ]
  },
  {
   "cell_type": "code",
   "execution_count": 7,
   "metadata": {
    "collapsed": false
   },
   "outputs": [
    {
     "data": {
      "text/plain": [
       "['tree 77',\n",
       " (33188, 'Duffer.ipynb', '997db51291f7490e756f7b3805d791a615e5d04f'),\n",
       " (33188, 'README.md', 'ad0ec6bc18160c7aa60597510e9068a9db8e02b8')]"
      ]
     },
     "execution_count": 7,
     "metadata": {},
     "output_type": "execute_result"
    }
   ],
   "source": [
    "sha1_to_content(disambiguate_sha1('95', '.git'))\n",
    "\n",
    "sha1_to_content('770c7bf919eed5444f4fae8df324536d77f2bdd4')"
   ]
  },
  {
   "cell_type": "code",
   "execution_count": 8,
   "metadata": {
    "collapsed": false
   },
   "outputs": [
    {
     "data": {
      "text/plain": [
       "'95d09f2b10159347eece71399a7e2e907ea3df4f'"
      ]
     },
     "execution_count": 8,
     "metadata": {},
     "output_type": "execute_result"
    }
   ],
   "source": [
    "store(Blob('hello world'))"
   ]
  },
  {
   "cell_type": "code",
   "execution_count": 9,
   "metadata": {
    "collapsed": true
   },
   "outputs": [
    {
     "data": {
      "text/plain": [
       "LazyTree('770c7bf919eed5444f4fae8df324536d77f2bdd4')"
      ]
     },
     "execution_count": 42,
     "metadata": {},
     "output_type": "execute_result"
    }
   ],
   "source": [
    "README = NamedBlob(sha1_to_content('ad0ec6bc18160c7aa60597510e9068a9db8e02b8')[1], 'README.md')\n",
    "Duffer_ipynb = NamedBlob(sha1_to_content('997db51291f7490e756f7b3805d791a615e5d04f')[1], 'Duffer.ipynb')\n",
    "LazyTree(Tree([README, Duffer_ipynb]).sha1)"
   ]
  },
  {
   "cell_type": "code",
   "execution_count": 10,
   "metadata": {
    "collapsed": true
   },
   "outputs": [
    {
     "name": "stdout",
     "output_type": "stream",
     "text": [
      "['commit 246', 'tree d85a06c1e0d54af851547ad2cf8468592b3f5e9c\\nparent 219b2443cc78abf7f34c316127fed34b12705376\\nauthor Vaibhav Sagar <vaibhavsagar@gmail.com> 1454962937 +1100\\ncommitter Vaibhav Sagar <vaibhavsagar@gmail.com> 1454962937 +1100\\n\\nAdd generic __repr__.\\n']\n"
     ]
    }
   ],
   "source": [
    "print(sha1_to_content('7999119054e013b25dc78bcdfea40a7890971ba8'))"
   ]
  },
  {
   "cell_type": "code",
   "execution_count": 11,
   "metadata": {
    "collapsed": false
   },
   "outputs": [
    {
     "data": {
      "text/plain": [
       "'language: c\\nsudo: true\\ninstall: bash .ci/prepare.sh\\nscript: make\\nnotifications:\\n  email:\\n    on_success: always\\n    on_failure: always\\nafter_success: bash .ci/update_pages.sh\\n'"
      ]
     },
     "execution_count": 44,
     "metadata": {},
     "output_type": "execute_result"
    }
   ],
   "source": [
    "list(LazyTree('251ed347dd1fd6c0672e7a3075e4ece183b85814', '/home/vaibhavsagar/Documents/git-yourself-out-of-trouble/.git').content)[2].content"
   ]
  },
  {
   "cell_type": "code",
   "execution_count": 12,
   "metadata": {
    "collapsed": false
   },
   "outputs": [],
   "source": [
    "class Commit(GitObject):\n",
    "    \n",
    "    def __init__(self, message, tree, parents, author, author_timestamp=None, committer=None, committer_timestamp=None):\n",
    "            if author_timestamp is None:\n",
    "                author_timestamp = strftime('%s %z')\n",
    "            if committer is None:\n",
    "                committer = author\n",
    "            if committer_timestamp is None:\n",
    "                committer_timestamp = author_timestamp\n",
    "            \n",
    "            self.message = message.lstrip('\\n').rstrip()\n",
    "            self.tree = tree\n",
    "            self.parents = parents\n",
    "            self.author = author\n",
    "            self.author_timestamp = author_timestamp\n",
    "            self.committer = committer\n",
    "            self.committer_timestamp = committer_timestamp\n",
    "\n",
    "    @property\n",
    "    def content(self):\n",
    "        tree = 'tree ' + self.tree.sha1\n",
    "        parents = '\\n'.join('parent ' + parent.sha1 for parent in self.parents)\n",
    "        author = ' '.join(['author', self.author, self.author_timestamp])\n",
    "        committer = ' '.join(['committer', self.committer, self.committer_timestamp])\n",
    "        message = '\\n' + self.message + '\\n'\n",
    "        if not parents:\n",
    "            content = '\\n'.join([tree, author, committer, message])\n",
    "        else:\n",
    "            content = '\\n'.join([tree, parents, author, committer, message])\n",
    "        return content\n",
    "    \n",
    "    @property\n",
    "    def store(self):\n",
    "        content = self.content\n",
    "        header = 'commit ' + str(len(content)) + '\\x00'\n",
    "        store = header + content\n",
    "        return store.encode()\n",
    "\n",
    "class LazyCommit(LazyObject):\n",
    "    \n",
    "    @property\n",
    "    def content(self):\n",
    "        header, content = sha1_to_content(self.sha1, self.directory)\n",
    "        return content\n",
    "    \n",
    "    @property\n",
    "    def message(self):\n",
    "        content = self.content\n",
    "        message_start = content.find('\\n\\n')+2\n",
    "        return content[message_start:-1]\n",
    "\n",
    "    @property\n",
    "    def tree(self):\n",
    "        tree_sha1 = compile(r'tree ([a-f0-9]{40})')\n",
    "        return LazyTree(tree_sha1.search(self.content).group(1))\n",
    "\n",
    "    @property\n",
    "    def parents(self):\n",
    "        parent_sha1 = compile(r'parent ([a-f0-9]{40})')\n",
    "        return [LazyCommit(sha1) for sha1 in parent_sha1.findall(self.content)]\n",
    "    \n",
    "    @property\n",
    "    def author(self):\n",
    "        author_matcher = compile(r'author (.*>) .*')\n",
    "        return author_matcher.search(self.content).group(1)\n",
    "    \n",
    "    @property\n",
    "    def author_timestamp(self):\n",
    "        author_timestamp_matcher = compile(r'author .*> (.*)')\n",
    "        return author_timestamp_matcher.search(self.content).group(1)\n",
    "    \n",
    "    @property\n",
    "    def committer(self):\n",
    "        committer_matcher = compile(r'committer (.*>) .*')\n",
    "        return committer_matcher.search(self.content).group(1)\n",
    "    \n",
    "    @property\n",
    "    def committer_timestamp(self):\n",
    "        committer_timestamp_matcher = compile(r'committer .*> (.*)')\n",
    "        return committer_timestamp_matcher.search(self.content).group(1)        "
   ]
  },
  {
   "cell_type": "code",
   "execution_count": 13,
   "metadata": {
    "collapsed": false
   },
   "outputs": [
    {
     "data": {
      "text/plain": [
       "'7999119054e013b25dc78bcdfea40a7890971ba8'"
      ]
     },
     "execution_count": 13,
     "metadata": {},
     "output_type": "execute_result"
    }
   ],
   "source": [
    "Commit(\n",
    "    '\\nAdd generic __repr__.\\n',\n",
    "    LazyTree('d85a06c1e0d54af851547ad2cf8468592b3f5e9c'),\n",
    "    [LazyCommit('219b2443cc78abf7f34c316127fed34b12705376')],\n",
    "    'Vaibhav Sagar <vaibhavsagar@gmail.com>',\n",
    "    '1454962937 +1100',\n",
    ").sha1"
   ]
  },
  {
   "cell_type": "code",
   "execution_count": 15,
   "metadata": {
    "collapsed": false
   },
   "outputs": [
    {
     "name": "stdout",
     "output_type": "stream",
     "text": [
      "tree 5c3d3519016b1d694e73d74526ef0fc8a885be81\n",
      "parent 2579d45e226a81c8db267cc07c5dbc03f0596218\n",
      "author Vaibhav Sagar <vaibhavsagar@gmail.com> 1454913915 +1100\n",
      "committer Vaibhav Sagar <vaibhavsagar@gmail.com> 1454913915 +1100\n",
      "\n",
      "Enforce sorting for Tree objects.\n",
      "\n"
     ]
    }
   ],
   "source": [
    "print(LazyCommit('219b2443cc78abf7f34c316127fed34b12705376').content)"
   ]
  },
  {
   "cell_type": "code",
   "execution_count": 16,
   "metadata": {
    "collapsed": false
   },
   "outputs": [
    {
     "data": {
      "text/plain": [
       "'0a89ecfa9d4513fa65e86165c2da7380ed278414'"
      ]
     },
     "execution_count": 14,
     "metadata": {},
     "output_type": "execute_result"
    }
   ],
   "source": [
    "README = NamedBlob(pretty_print('ad0ec6bc18160c7aa60597510e9068a9db8e02b8')[1], 'README.md')\n",
    "Duffer_ipynb = NamedBlob(pretty_print('997db51291f7490e756f7b3805d791a615e5d04f')[1], 'Duffer.ipynb')\n",
    "Duffer_ipynb.sha1\n",
    "Tree([Duffer_ipynb, README]).sha1"
   ]
  }
 ],
 "metadata": {
  "kernelspec": {
   "display_name": "Python 3",
   "language": "python",
   "name": "python3"
  },
  "language_info": {
   "codemirror_mode": {
    "name": "ipython",
    "version": 3
   },
   "file_extension": ".py",
   "mimetype": "text/x-python",
   "name": "python",
   "nbconvert_exporter": "python",
   "pygments_lexer": "ipython3",
   "version": "3.5.0"
  }
 },
 "nbformat": 4,
 "nbformat_minor": 0
}
